{
 "cells": [
  {
   "cell_type": "markdown",
   "source": [
    "# 导入相应的库"
   ],
   "metadata": {
    "collapsed": false
   }
  },
  {
   "cell_type": "code",
   "execution_count": 43,
   "outputs": [],
   "source": [
    "%matplotlib inline\n",
    "import matplotlib.pyplot as plt\n",
    "plt.rcParams[\"figure.figsize\"] = (11, 11)  #set default figure size\n",
    "import numpy as np\n",
    "import pandas as pd\n",
    "from sklearn.model_selection import train_test_split\n",
    "from sklearn.preprocessing import StandardScaler, MinMaxScaler\n",
    "from sklearn.gaussian_process import GaussianProcessRegressor\n",
    "from sklearn.gaussian_process.kernels import RBF, WhiteKernel, DotProduct, ConstantKernel as C\n",
    "from sklearn.metrics import mean_absolute_error,mean_squared_error,mean_absolute_percentage_error,r2_score\n",
    "import matplotlib.pylab as plt\n",
    "from sklearn.model_selection import GridSearchCV, cross_val_score\n",
    "from sklearn.model_selection import RandomizedSearchCV  \n",
    "from scipy.stats import uniform  "
   ],
   "metadata": {
    "collapsed": false,
    "ExecuteTime": {
     "end_time": "2024-05-09T15:35:14.839930800Z",
     "start_time": "2024-05-09T15:35:14.813536100Z"
    }
   }
  },
  {
   "cell_type": "markdown",
   "source": [
    "# MAPE"
   ],
   "metadata": {
    "collapsed": false
   }
  },
  {
   "cell_type": "code",
   "execution_count": 44,
   "metadata": {
    "ExecuteTime": {
     "end_time": "2024-05-09T15:35:14.866968300Z",
     "start_time": "2024-05-09T15:35:14.817747400Z"
    }
   },
   "outputs": [],
   "source": [
    "def split(xx, yy):      #定义一个函数用来划分训练集，测试集，验证集\n",
    "    zscore = StandardScaler()   #用于数据标准化处理的缩放器\n",
    "    scaler =MinMaxScaler()   #用于数据最小最大缩放处理的缩放器\n",
    "    xx = zscore.fit_transform(xx)  \n",
    "    yy = scaler.fit_transform(np.reshape(yy.values,(len(yy),1))) \n",
    "    \n",
    "    x_train, x_test_val, y_train, y_test_val = train_test_split(xx, yy, shuffle=True,test_size=0.3, random_state=1)\n",
    "    #x_训练集，x_测试验证集，y_训练集，y_测试验证集                    划分前将数据集进行随机打乱，并按照6：4划分，且划分方式统一\n",
    "    x_test, x_val, y_test, y_val = train_test_split(x_test_val, y_test_val, shuffle=True,test_size=0.25, random_state=1)\n",
    "    #x_测试集，x_验证集，y_测试集，y_验证集                           划分前将数据集进行随机打乱，并按照3：1划分，且划分方式统一\n",
    "    \n",
    "    y2 = yy.ravel()     #将yy数组转化为一维数组并存在y2中\n",
    "    ind_train = [np.argwhere(y2 == y_train[i])[0].item() for i in range(len(y_train)) if y_train[i] in y2]\n",
    "                                                        #这是一个循环，遍历y_train中的每一个元素，判断y_train中的当前标签y_train[i]是否存在于y2中\n",
    "                #找到y2中所有等于y_train[i]的元素的索引，返回一个二维数组，然后用[0].item()取得第一行赋值给ind_train生成列表\n",
    "    ind_test = [np.argwhere(y2 == y_test[i])[0].item() for i in range(len(y_test)) if y_test[i] in y2]\n",
    "    ind_val = [np.argwhere(y2 == y_val[i])[0].item() for i in range(len(y_val)) if y_val[i] in y2]\n",
    "   \n",
    "    y_train = y_train.ravel()       #将y_train数组转化为一维数组\n",
    "    y_test = y_test.ravel()         #将y_text数组转化为一维数组\n",
    "    y_val = y_val.ravel()           #将y_val数组转化为一维数组\n",
    "    \n",
    "    return x_train, x_test, x_val, y_train, y_test, y_val, xx, yy, np.asarray(ind_train), np.asarray(ind_train), np.asarray(ind_val)\n",
    "    #返回训练集，测试集，验证集的特征数据，和标签（目标变量）数据，原特数据，原目标变量数据，以及转化为数组的ind_train，ind_train，ind_val"
   ]
  },
  {
   "cell_type": "code",
   "execution_count": 45,
   "metadata": {
    "ExecuteTime": {
     "end_time": "2024-05-09T15:35:14.866968300Z",
     "start_time": "2024-05-09T15:35:14.823268400Z"
    }
   },
   "outputs": [
    {
     "name": "stdout",
     "output_type": "stream",
     "text": [
      "original datasize: (222, 17)\n",
      "adjusted datasize: (222, 17)\n",
      "data:\n",
      "   Time  Deep  Length   HRT     COD    TN  NH4-N    C/N    c(A)  CSC  XLogP3  \\\n",
      "0    90  12.5    45.0  72.0  299.46  26.8  24.07  11.17  100.00   11    -0.1   \n",
      "1    90  45.0    12.5  72.0  299.46  26.8  24.07  11.17  100.00   11    -0.1   \n",
      "2    84  10.0    30.0  72.0   66.60   3.6   2.35  18.50    0.18   11     0.2   \n",
      "3    84  10.0    90.0  72.0   66.60   3.6   2.35  18.50    0.18   11     0.2   \n",
      "4    84  50.0    30.0  72.0   66.60   3.6   2.35  18.50    0.18   11     0.2   \n",
      "\n",
      "    WI    RA(P)   RA(F)    RA(B)   RA(A)   RR（A）  \n",
      "0  885  48.0057  1.8966   9.9499  2.3363  0.9893  \n",
      "1  885  62.3032  1.6632   6.7403  0.9921  0.9893  \n",
      "2  943  50.8357  0.9988  10.7969  7.0869  0.7094  \n",
      "3  943  46.2696  1.4269  11.2249  2.6160  0.7094  \n",
      "4  943  38.7070  0.6659   6.9918  1.5220  0.7094  \n"
     ]
    }
   ],
   "source": [
    "df = pd.read_csv('MP_data_0421_C(A).csv', index_col=None, engine='c') \n",
    "print('original datasize:', df.shape)\n",
    "df.dropna(inplace=True)\n",
    "print('adjusted datasize:', df.shape)\n",
    "print('data:')\n",
    "print(df.head())"
   ]
  },
  {
   "cell_type": "code",
   "execution_count": 46,
   "metadata": {
    "ExecuteTime": {
     "end_time": "2024-05-09T15:35:14.896970900Z",
     "start_time": "2024-05-09T15:35:14.836929200Z"
    }
   },
   "outputs": [
    {
     "name": "stdout",
     "output_type": "stream",
     "text": [
      "目标变量是  RR（A）\n",
      "特征变量是  ['Time', 'Deep', 'Length', 'HRT', 'COD', 'TN', 'NH4-N', 'C/N', 'c(A)', 'CSC', 'XLogP3', 'WI', 'RA(P)', 'RA(F)', 'RA(B)', 'RA(A)']\n",
      "样本大小 is  222 ; 特征变量的数量 is  16\n",
      "训练集数据大小 is  155 ; 测试集数据大小 is  50 ; 验证集数据大小 is  17\n"
     ]
    }
   ],
   "source": [
    "xx= df.iloc[:,0:-1] # predictors\n",
    "yy=df.iloc[:,-1]# target - kd\n",
    "x_train, x_test,x_val, y_train, y_test,y_val, x_scaled, y_scaled, ind_train, ind_test,ind_val = split(xx, yy)\n",
    "\n",
    "print('目标变量是 ', yy.name)\n",
    "print('特征变量是 ', xx.columns.tolist())\n",
    "print('样本大小 is ', xx.shape[0], '; 特征变量的数量 is ', xx.shape[1])\n",
    "print('训练集数据大小 is ', x_train.shape[0], '; 测试集数据大小 is ', x_test.shape[0],'; 验证集数据大小 is ', x_val.shape[0])"
   ]
  },
  {
   "cell_type": "code",
   "execution_count": 47,
   "outputs": [],
   "source": [
    "#d = np.ones(x_train.shape[1])\n",
    "# 定义核函数，包括边界  \n",
    "kernel = C(1, (1e-3, 1e3)) * RBF(16,(1e-9, 1e9)) + WhiteKernel(noise_level=1)\n",
    "gpr = GaussianProcessRegressor(kernel=kernel, random_state=42, n_restarts_optimizer=10).fit(x_train, y_train)"
   ],
   "metadata": {
    "collapsed": false,
    "ExecuteTime": {
     "end_time": "2024-05-09T15:35:15.294118900Z",
     "start_time": "2024-05-09T15:35:14.845965300Z"
    }
   }
  },
  {
   "cell_type": "code",
   "execution_count": 48,
   "outputs": [],
   "source": [
    "y_pred_train = gpr.predict(x_train)    \n",
    "y_pred_test = gpr.predict(x_test)    \n",
    "y_pred_val = gpr.predict(x_val) "
   ],
   "metadata": {
    "collapsed": false,
    "ExecuteTime": {
     "end_time": "2024-05-09T15:35:15.300736300Z",
     "start_time": "2024-05-09T15:35:15.295641400Z"
    }
   }
  },
  {
   "cell_type": "markdown",
   "source": [
    "# 评估模型性能  "
   ],
   "metadata": {
    "collapsed": false
   }
  },
  {
   "cell_type": "code",
   "execution_count": 49,
   "outputs": [
    {
     "name": "stdout",
     "output_type": "stream",
     "text": [
      "Mean cross-validation score: 0.84\n",
      "GPR training\tR2:0.9634\t\tMSE:0.006567\t\tMAE:0.051219\n",
      "GPR test  \t\tR2:0.8513\t\tMSE:0.026840\t\tMAE:0.103130\n",
      "GPR valid \t\tR2:0.8966\t\tMSE:0.021145\t\tMAE:0.111338\n"
     ]
    }
   ],
   "source": [
    "# 交叉验证得分  \n",
    "scores = cross_val_score(gpr, x_train, y_train, cv=5)  \n",
    "print(\"Mean cross-validation score: %.2f\" % scores.mean())  \n",
    "\n",
    "print('GPR training\\tR2:{:.4f}\\t\\tMSE:{:.6f}\\t\\tMAE:{:.6f}'.format(gpr.score(x_train,y_train), mean_squared_error(y_train, y_pred_train),\n",
    "                                                        mean_absolute_error(y_train, y_pred_train)))\n",
    "print('GPR test  \\t\\tR2:{:.4f}\\t\\tMSE:{:.6f}\\t\\tMAE:{:.6f}'.format(gpr.score(x_test,y_test), mean_squared_error(y_test, y_pred_test),\n",
    "                                                        mean_absolute_error(y_test, y_pred_test)))\n",
    "\n",
    "print('GPR valid \\t\\tR2:{:.4f}\\t\\tMSE:{:.6f}\\t\\tMAE:{:.6f}'.format(gpr.score(x_val,y_val), mean_squared_error(y_val, y_pred_val),\n",
    "                                                        mean_absolute_error(y_val, y_pred_val)))"
   ],
   "metadata": {
    "collapsed": false,
    "ExecuteTime": {
     "end_time": "2024-05-09T15:35:16.656173100Z",
     "start_time": "2024-05-09T15:35:15.301747600Z"
    }
   }
  },
  {
   "cell_type": "markdown",
   "source": [
    "# 生成预测值与实际值之间的散点图"
   ],
   "metadata": {
    "collapsed": false
   }
  },
  {
   "cell_type": "code",
   "execution_count": 50,
   "outputs": [],
   "source": [
    "def scatter_plots(model_name, y_pred_train, y_pred_test,y_pred_val, y_train, y_test, y_val):  \n",
    "    \n",
    "    plt.figure(figsize=(6, 6))     # 设置图的大小 \n",
    "    \n",
    "    # 在同一个图中绘制所有点的散点图  \n",
    "    plt.scatter(y_train, y_pred_train, color='blue', label='Train', alpha=0.6)  \n",
    "                                 #散点的颜色设置为蓝色，标签设置为‘Train’，散点的透明度设置为0.6\n",
    "    plt.scatter(y_test, y_pred_test, color='green', label='Test', alpha=0.6)  \n",
    "    plt.scatter(y_val, y_pred_val, color='red', label='Validation', alpha=0.6)  \n",
    "      \n",
    "    # 绘制完美拟合线  \n",
    "    limits = [  \n",
    "        min(y_train.min(), y_test.min(), y_val.min()),  # x min  \n",
    "        max(y_train.max(), y_test.max(), y_val.max()),  # x max  \n",
    "        min(y_pred_train.min(), y_pred_test.min(), y_pred_val.min()),  # y min  \n",
    "        max(y_pred_train.max(), y_pred_test.max(), y_pred_val.max()),  # y max  \n",
    "    ]  \n",
    "    plt.plot(limits[:2], limits[2:], 'k--', lw=2)  \n",
    "      \n",
    "    # 设置图的标题和坐标轴标签  \n",
    "    plt.title('GPR-C(A)')     #图片标题\n",
    "    plt.xlabel('Actual Values')     #x轴标题\n",
    "    plt.ylabel('Predicted Values')      #y轴标题\n",
    "    \n",
    "    # 禁用网格  \n",
    "    plt.grid(False)       \n",
    "    # 显示图例  \n",
    "    plt.legend()  \n",
    "      \n",
    "    # 显示图形  \n",
    "    plt.show()  "
   ],
   "metadata": {
    "collapsed": false,
    "ExecuteTime": {
     "end_time": "2024-05-09T15:35:16.663173Z",
     "start_time": "2024-05-09T15:35:16.658677Z"
    }
   }
  },
  {
   "cell_type": "code",
   "execution_count": 51,
   "outputs": [
    {
     "data": {
      "text/plain": "<Figure size 600x600 with 1 Axes>",
      "image/png": "[encoded data removed]"
     },
     "metadata": {},
     "output_type": "display_data"
    }
   ],
   "source": [
    "# 调用scatter_plots函数生成图像\n",
    "scatter_plots('GPR', y_pred_train, y_pred_test, y_pred_val, y_train, y_test, y_val)"
   ],
   "metadata": {
    "collapsed": false,
    "ExecuteTime": {
     "end_time": "2024-05-09T15:35:16.833657800Z",
     "start_time": "2024-05-09T15:35:16.662159800Z"
    }
   }
  },
  {
   "cell_type": "code",
   "execution_count": 52,
   "metadata": {
    "ExecuteTime": {
     "end_time": "2024-05-09T15:35:16.842182200Z",
     "start_time": "2024-05-09T15:35:16.836161700Z"
    }
   },
   "outputs": [],
   "source": [
    "import pickle\n",
    "# save gpr model\n",
    "model_name = 'gpr.pkl' # 模型名称.plk\n",
    "path =''\n",
    "with open(path+'gpr.pkl','wb') as f:\n",
    "    pickle.dump(gpr, f)"
   ]
  },
  {
   "cell_type": "code",
   "execution_count": 53,
   "outputs": [
    {
     "data": {
      "text/plain": "array([0.    , 0.    , 0.631 , 0.5948, 0.7287, 0.983 , 0.954 , 0.4768,\n       0.9536, 1.    , 0.653 , 0.8315, 0.    , 0.    , 0.    , 0.    ,\n       0.5948, 0.7094, 0.5201, 0.    , 0.7132, 0.9787, 0.9784, 0.8118,\n       0.6903, 0.    , 0.653 , 1.    , 0.    , 0.    , 0.8653, 0.    ,\n       0.7276, 0.9844, 0.    , 0.6343, 1.    , 0.    , 0.9489, 0.    ,\n       0.895 , 0.7506, 0.    , 0.    , 0.    , 0.6343, 0.7683, 0.    ,\n       0.2431, 1.    , 0.7947, 0.    , 0.    , 0.8134, 0.    , 0.9787,\n       0.    , 0.9717, 0.882 , 0.3548, 0.    , 1.    , 0.7387, 0.9717,\n       0.7094, 0.9417, 0.6893, 0.7276, 0.895 , 0.631 , 0.1957, 0.9784,\n       0.    , 0.3765, 0.9844, 1.    , 0.    , 0.    , 0.    , 0.6343,\n       0.9472, 0.8215, 0.    , 0.9489, 0.    , 0.    , 0.983 , 0.    ,\n       0.6893, 0.7276, 0.955 , 1.    , 0.9717, 0.    , 0.2891, 0.    ,\n       0.9784, 0.5948, 0.9894, 0.9489, 0.    , 0.    , 0.285 , 0.9724,\n       0.3545, 0.    , 0.9724, 0.7094, 0.7276, 0.7132, 1.    , 0.9909,\n       0.    , 0.9729, 0.998 , 0.895 , 0.    , 0.7457, 0.6893, 0.9784,\n       0.882 , 0.9893, 0.    , 0.983 , 0.9784, 0.    , 0.6893, 0.    ,\n       0.    , 0.    , 0.    , 0.9784, 0.    , 0.    , 0.    , 1.    ,\n       0.    , 0.    , 0.5941, 0.983 , 0.9935, 0.9724, 0.9909, 0.    ,\n       0.    , 0.882 , 0.    , 0.9784, 0.    , 0.9909, 0.    , 0.    ,\n       0.    , 0.    , 0.8403])"
     },
     "execution_count": 53,
     "metadata": {},
     "output_type": "execute_result"
    }
   ],
   "source": [
    "y_train"
   ],
   "metadata": {
    "collapsed": false,
    "ExecuteTime": {
     "end_time": "2024-05-09T15:35:16.848016800Z",
     "start_time": "2024-05-09T15:35:16.839179500Z"
    }
   }
  },
  {
   "cell_type": "code",
   "execution_count": 54,
   "outputs": [
    {
     "data": {
      "text/plain": "array([-2.30643854e-02,  1.75863375e-02,  4.44324683e-01,  5.26234486e-01,\n        7.37026113e-01,  9.65921539e-01,  9.43077346e-01,  5.02831756e-01,\n        8.79399358e-01,  9.77850503e-01,  6.04796762e-01,  8.31667417e-01,\n        4.79301333e-02,  2.52544471e-03,  3.76186448e-02, -5.12749986e-02,\n        6.50975544e-01,  6.53003040e-01,  5.28382071e-01,  2.48075108e-02,\n        7.09561486e-01,  9.63225888e-01,  9.81383388e-01,  8.24118121e-01,\n        7.12010776e-01, -3.49161554e-02,  5.25455527e-01,  1.03903058e+00,\n       -1.01885692e-01,  2.28507993e-02,  7.74489069e-01, -4.27954408e-02,\n        7.72896694e-01,  9.83596369e-01, -3.52559995e-02,  6.93688473e-01,\n        9.86311949e-01,  6.93989902e-02,  9.27144145e-01,  1.65753848e-02,\n        8.96749626e-01,  7.54268454e-01, -4.76570143e-02, -5.49038498e-03,\n       -3.48990085e-04,  6.62463335e-01,  7.67666656e-01, -4.17221460e-02,\n        4.18038166e-01,  1.01084025e+00,  7.82172461e-01,  2.20501574e-02,\n        4.60027898e-04,  5.33750110e-01,  1.57699170e-01,  9.32017990e-01,\n        4.25203830e-02,  9.69603113e-01,  9.45908244e-01,  3.70727504e-01,\n        4.56486062e-02,  9.63588367e-01,  7.55208622e-01,  9.78438432e-01,\n        6.56271788e-01,  9.32987842e-01,  6.96009769e-01,  7.35305993e-01,\n        9.03646344e-01,  4.42283821e-01,  5.17209482e-01,  9.60093219e-01,\n        7.25146037e-02,  2.89979266e-01,  9.40126153e-01,  1.00967158e+00,\n        6.48361500e-02,  2.49583849e-02, -1.73510324e-02,  6.48768341e-01,\n        9.73773083e-01,  7.96572762e-01,  1.71601413e-02,  8.90996027e-01,\n        2.67045587e-01,  5.74853806e-03,  9.77867168e-01,  5.81969196e-02,\n        6.53751598e-01,  7.15114531e-01,  7.62496673e-01,  9.84664367e-01,\n        9.60256763e-01,  3.32753034e-02,  3.26765772e-01,  1.53788223e-02,\n        9.88047455e-01,  6.27978469e-01,  9.71481669e-01,  9.35623339e-01,\n        1.83357748e-01, -5.97327175e-02,  4.65081590e-01,  9.94156244e-01,\n        4.20219564e-01,  4.28901340e-02,  9.44616323e-01,  6.85497746e-01,\n        7.35691248e-01,  7.76178216e-01,  1.03772722e+00,  9.26526469e-01,\n       -4.65260467e-02,  1.03862039e+00,  7.54390290e-01,  9.24748401e-01,\n       -5.85471935e-02,  7.08614353e-01,  6.73746146e-01,  9.94226626e-01,\n        7.96743767e-01,  8.32099372e-01,  2.34072321e-02,  1.00234053e+00,\n        1.00764843e+00, -2.35291782e-02,  7.26022606e-01,  8.72204366e-03,\n        4.39223389e-02,  4.46122479e-02, -8.28480487e-02,  9.32899213e-01,\n        7.84255746e-02, -1.77827549e-02, -3.80559601e-02,  1.01630939e+00,\n       -1.52690867e-02,  2.93021139e-02,  3.69522282e-01,  9.12839426e-01,\n        9.14768631e-01,  9.79782662e-01,  9.26672621e-01,  2.88895444e-01,\n        6.57091449e-02,  8.96715288e-01,  2.93826860e-02,  9.46982988e-01,\n       -6.45590212e-02,  9.68648575e-01,  7.65146604e-02, -1.63850126e-02,\n        2.82561571e-01, -2.14526333e-02,  8.15313006e-01])"
     },
     "execution_count": 54,
     "metadata": {},
     "output_type": "execute_result"
    }
   ],
   "source": [
    "y_pred_train"
   ],
   "metadata": {
    "collapsed": false,
    "ExecuteTime": {
     "end_time": "2024-05-09T15:35:16.857195700Z",
     "start_time": "2024-05-09T15:35:16.845512800Z"
    }
   }
  },
  {
   "cell_type": "code",
   "execution_count": 55,
   "outputs": [
    {
     "data": {
      "text/plain": "array([0.    , 0.    , 0.882 , 0.    , 1.    , 0.6188, 0.    , 1.    ,\n       0.    , 0.6343, 1.    , 0.8728, 0.5201, 0.    , 0.7347, 0.    ,\n       0.6188, 0.9787, 0.    , 0.    , 0.9417, 0.    , 0.9276, 1.    ,\n       0.    , 0.    , 0.3279, 0.6188, 0.    , 0.9729, 0.    , 0.9724,\n       0.    , 0.3765, 0.285 , 0.9935, 0.9276, 0.9784, 0.8728, 0.9747,\n       0.    , 0.9472, 0.    , 0.9935, 0.9729, 0.7506, 0.7276, 0.7094,\n       0.9971, 0.9729])"
     },
     "execution_count": 55,
     "metadata": {},
     "output_type": "execute_result"
    }
   ],
   "source": [
    "y_test"
   ],
   "metadata": {
    "collapsed": false,
    "ExecuteTime": {
     "end_time": "2024-05-09T15:35:16.897726200Z",
     "start_time": "2024-05-09T15:35:16.854193Z"
    }
   }
  },
  {
   "cell_type": "code",
   "execution_count": 56,
   "outputs": [
    {
     "data": {
      "text/plain": "array([ 2.12088317e-01,  2.74561817e-01,  7.62549954e-01, -9.82767172e-02,\n        1.02426492e+00,  9.78097280e-01,  1.60350365e-02,  1.00676231e+00,\n       -2.42554908e-02,  6.71314327e-01,  1.01020643e+00,  1.02581894e+00,\n        5.02780106e-01,  4.17052195e-02,  7.10052246e-01,  2.82353592e-02,\n        8.53457040e-01,  9.15344852e-01,  5.09461618e-02,  6.58020337e-02,\n        9.31865401e-01, -4.48660795e-02,  3.37843809e-01,  9.58553574e-01,\n       -6.98968752e-02, -1.59444997e-02,  4.31219374e-01,  9.47038427e-01,\n       -5.76716165e-04,  9.50682916e-01,  7.29912613e-02,  9.48538394e-01,\n       -1.08048019e-01,  2.76192281e-01,  3.62486501e-01,  9.12769245e-01,\n        3.71104156e-01,  1.00769288e+00,  9.65872990e-01,  7.90250436e-01,\n        2.74074713e-02,  1.04788953e+00, -8.27973243e-02,  9.22784723e-01,\n        1.01345996e+00,  7.46790274e-01,  7.92011806e-01,  6.75157698e-01,\n        7.29624302e-01,  1.02253384e+00])"
     },
     "execution_count": 56,
     "metadata": {},
     "output_type": "execute_result"
    }
   ],
   "source": [
    "y_pred_test"
   ],
   "metadata": {
    "collapsed": false,
    "ExecuteTime": {
     "end_time": "2024-05-09T15:35:16.897726200Z",
     "start_time": "2024-05-09T15:35:16.860568300Z"
    }
   }
  },
  {
   "cell_type": "code",
   "execution_count": 57,
   "outputs": [
    {
     "data": {
      "text/plain": "array([0.    , 0.974 , 0.9901, 0.8315, 0.    , 0.9472, 0.    , 0.5948,\n       0.786 , 0.9417, 0.    , 0.    , 0.    , 0.9909, 0.9893, 0.9472,\n       0.    ])"
     },
     "execution_count": 57,
     "metadata": {},
     "output_type": "execute_result"
    }
   ],
   "source": [
    "y_val"
   ],
   "metadata": {
    "collapsed": false,
    "ExecuteTime": {
     "end_time": "2024-05-09T15:35:16.897726200Z",
     "start_time": "2024-05-09T15:35:16.866567300Z"
    }
   }
  },
  {
   "cell_type": "code",
   "execution_count": 58,
   "outputs": [
    {
     "data": {
      "text/plain": "array([ 0.11461422,  0.78199715,  0.88298336,  0.72497886, -0.00178726,\n        1.08819104,  0.09017002,  0.65827535,  0.77000753,  0.65593806,\n        0.04609572,  0.07812404, -0.00521045,  0.66520845,  0.76145875,\n        0.9591975 ,  0.07935084])"
     },
     "execution_count": 58,
     "metadata": {},
     "output_type": "execute_result"
    }
   ],
   "source": [
    "y_pred_val"
   ],
   "metadata": {
    "collapsed": false,
    "ExecuteTime": {
     "end_time": "2024-05-09T15:35:16.897726200Z",
     "start_time": "2024-05-09T15:35:16.873230900Z"
    }
   }
  }
 ],
 "metadata": {
  "kernelspec": {
   "display_name": "Python 3",
   "language": "python",
   "name": "python3"
  },
  "language_info": {
   "codemirror_mode": {
    "name": "ipython",
    "version": 3
   },
   "file_extension": ".py",
   "mimetype": "text/x-python",
   "name": "python",
   "nbconvert_exporter": "python",
   "pygments_lexer": "ipython3",
   "version": "3.8.5"
  }
 },
 "nbformat": 4,
 "nbformat_minor": 4
}
