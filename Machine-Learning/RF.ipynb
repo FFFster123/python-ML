{
 "cells": [
  {
   "cell_type": "markdown",
   "source": [
    "#   导入相应的库"
   ],
   "metadata": {
    "collapsed": false
   },
   "id": "ff516e67382c8801"
  },
  {
   "cell_type": "code",
   "execution_count": 35,
   "outputs": [],
   "source": [
    "%matplotlib inline\n",
    "import matplotlib.pyplot as plt\n",
    "import seaborn as sns\n",
    "import numpy as np\n",
    "import pandas as pd  \n",
    "from sklearn.ensemble import RandomForestRegressor  # 或者RandomForestClassifier，取决于你的任务是回归还是分类  \n",
    "from sklearn.metrics import mean_squared_error,mean_absolute_error,r2_score  # 或者其他评估指标等  \n",
    "from sklearn.model_selection import train_test_split\n",
    "from sklearn.preprocessing import StandardScaler, MinMaxScaler\n",
    "from sklearn.model_selection import GridSearchCV, cross_val_score"
   ],
   "metadata": {
    "collapsed": false,
    "ExecuteTime": {
     "end_time": "2024-08-17T04:15:57.189731900Z",
     "start_time": "2024-08-17T04:15:57.153525800Z"
    }
   },
   "id": "c8788f0e40b09e38"
  },
  {
   "cell_type": "markdown",
   "source": [
    "#   读取数据  "
   ],
   "metadata": {
    "collapsed": false
   },
   "id": "445065e479314a73"
  },
  {
   "cell_type": "code",
   "execution_count": 36,
   "outputs": [
    {
     "name": "stdout",
     "output_type": "stream",
     "text": [
      "original datasize: (222, 17)\n",
      "adjusted datasize: (222, 17)\n",
      "data:\n",
      "   Time  Deep  Length   HRT     COD    TN  NH4-N    C/N    c(A)  CSC  XLogP3  \\\n",
      "0    90  12.5    45.0  72.0  299.46  26.8  24.07  11.17  100.00   11    -0.1   \n",
      "1    90  45.0    12.5  72.0  299.46  26.8  24.07  11.17  100.00   11    -0.1   \n",
      "2    84  10.0    30.0  72.0   66.60   3.6   2.35  18.50    0.18   11     0.2   \n",
      "3    84  10.0    90.0  72.0   66.60   3.6   2.35  18.50    0.18   11     0.2   \n",
      "4    84  50.0    30.0  72.0   66.60   3.6   2.35  18.50    0.18   11     0.2   \n",
      "\n",
      "    WI    RA(P)   RA(F)    RA(B)   RA(A)   RR（A）  \n",
      "0  885  48.0057  1.8966   9.9499  2.3363  0.9893  \n",
      "1  885  62.3032  1.6632   6.7403  0.9921  0.9893  \n",
      "2  943  50.8357  0.9988  10.7969  7.0869  0.7094  \n",
      "3  943  46.2696  1.4269  11.2249  2.6160  0.7094  \n",
      "4  943  38.7070  0.6659   6.9918  1.5220  0.7094  \n"
     ]
    }
   ],
   "source": [
    "df = pd.read_csv('MP_data_0421_C(A).csv',index_col=None, engine='c')  # 读取文件并存放进数据框df中 \n",
    "print('original datasize:', df.shape)\n",
    "df.dropna(inplace=True)\n",
    "print('adjusted datasize:', df.shape)\n",
    "print('data:')\n",
    "print(df.head())"
   ],
   "metadata": {
    "collapsed": false,
    "ExecuteTime": {
     "end_time": "2024-08-17T04:15:57.239083Z",
     "start_time": "2024-08-17T04:15:57.156538Z"
    }
   },
   "id": "bcd5a45551e60f2d"
  },
  {
   "cell_type": "markdown",
   "source": [
    "#   划分训练集，测试集，验证集"
   ],
   "metadata": {
    "collapsed": false
   },
   "id": "4af9274e9c681955"
  },
  {
   "cell_type": "code",
   "execution_count": 37,
   "outputs": [],
   "source": [
    "xx= df.iloc[:,0:-1]  # 特征 \n",
    "yy=df.iloc[:,-1]   # 目标变量\n",
    "\n",
    "zscore = StandardScaler()   #用于数据标准化处理的缩放器\n",
    "scaler =MinMaxScaler()   #用于数据最小最大缩放处理的缩放器\n",
    "xx_scaled = zscore.fit_transform(xx)  \n",
    "yy_scaled = scaler.fit_transform(np.reshape(yy.values,(len(yy),1))) \n",
    "\n",
    "def split(xx_scaled, yy_scaled):      #定义一个函数用来划分训练集，测试集，验证集\n",
    "     \n",
    "    x_train, x_test_val, y_train, y_test_val = train_test_split(xx_scaled, yy_scaled, shuffle=True,test_size=0.3, random_state=1)\n",
    "    #x_训练集，x_测试验证集，y_训练集，y_测试验证集                    划分前将数据集进行随机打乱，并按照6：4划分，且划分方式统一\n",
    "    x_test, x_val, y_test, y_val = train_test_split(x_test_val, y_test_val, shuffle=True,test_size=0.25, random_state=1)\n",
    "    #x_测试集，x_验证集，y_测试集，y_验证集                           划分前将数据集进行随机打乱，并按照3：1划分，且划分方式统一\n",
    "    \n",
    "    y2 = yy_scaled.ravel()     #将yy数组转化为一维数组并存在y2中\n",
    "    ind_train = [np.argwhere(y2 == y_train[i])[0].item() for i in range(len(y_train)) if y_train[i] in y2]\n",
    "                                                        #这是一个循环，遍历y_train中的每一个元素，判断y_train中的当前标签y_train[i]是否存在于y2中\n",
    "                #找到y2中所有等于y_train[i]的元素的索引，返回一个二维数组，然后用[0].item()取得第一行赋值给ind_train生成列表\n",
    "    ind_test = [np.argwhere(y2 == y_test[i])[0].item() for i in range(len(y_test)) if y_test[i] in y2]\n",
    "    ind_val = [np.argwhere(y2 == y_val[i])[0].item() for i in range(len(y_val)) if y_val[i] in y2]\n",
    "   \n",
    "    y_train = y_train.ravel()       #将y_train数组转化为一维数组\n",
    "    y_test = y_test.ravel()         #将y_text数组转化为一维数组\n",
    "    y_val = y_val.ravel()           #将y_val数组转化为一维数组\n",
    "    \n",
    "    return x_train, x_test, x_val, y_train, y_test, y_val, xx, yy, np.asarray(ind_train), np.asarray(ind_test), np.asarray(ind_val)\n",
    "    #返回训练集，测试集，验证集的特征数据，和标签（目标变量）数据，原特数据，原目标变量数据，以及转化为数组的ind_train，ind_train，ind_val"
   ],
   "metadata": {
    "collapsed": false,
    "ExecuteTime": {
     "end_time": "2024-08-17T04:15:57.292650700Z",
     "start_time": "2024-08-17T04:15:57.178463200Z"
    }
   },
   "id": "be3827e478126f5c"
  },
  {
   "cell_type": "code",
   "execution_count": 38,
   "outputs": [
    {
     "name": "stdout",
     "output_type": "stream",
     "text": [
      "目标变量 is  RR（A）\n",
      "特征 are  ['Time', 'Deep', 'Length', 'HRT', 'COD', 'TN', 'NH4-N', 'C/N', 'c(A)', 'CSC', 'XLogP3', 'WI', 'RA(P)', 'RA(F)', 'RA(B)', 'RA(A)']\n",
      "样本数量 is  222 ; 预测特征变量 is  16\n",
      "训练集大小 is  155 ; 测试集大小 is  50 ; 验证集大小 is  17\n"
     ]
    }
   ],
   "source": [
    "x_train, x_test, x_val, y_train, y_test,y_val, x_scaled, y_scaled, ind_train, ind_test, ind_val = split(xx_scaled, yy_scaled)\n",
    "\n",
    "print('目标变量 is ', yy.name)\n",
    "print('特征 are ', xx.columns.tolist())\n",
    "print('样本数量 is ', xx.shape[0], '; 预测特征变量 is ', xx.shape[1])\n",
    "print('训练集大小 is ', x_train.shape[0], '; 测试集大小 is ', x_test.shape[0],'; 验证集大小 is ', x_val.shape[0])"
   ],
   "metadata": {
    "collapsed": false,
    "ExecuteTime": {
     "end_time": "2024-08-17T04:15:57.297656Z",
     "start_time": "2024-08-17T04:15:57.185728800Z"
    }
   },
   "id": "447680c22588f72f"
  },
  {
   "cell_type": "markdown",
   "source": [
    "# 创建随机森林模型  "
   ],
   "metadata": {
    "collapsed": false
   },
   "id": "f4707244cc123330"
  },
  {
   "cell_type": "code",
   "execution_count": 39,
   "outputs": [],
   "source": [
    "# 你可以调整n_estimators（树的数量）、max_depth（树的最大深度）等参数来优化模型  \n",
    "rf = RandomForestRegressor(n_estimators=35,\n",
    "                           max_depth=8,\n",
    "                           max_features=10,\n",
    "                           min_samples_split=2,\n",
    "                           min_samples_leaf=1,\n",
    "                           random_state=42, \n",
    "                           bootstrap=True)  \n",
    "rf.fit(x_train, y_train)  # 训练模型  \n",
    "\n",
    "y_pred_train = rf.predict(x_train)  \n",
    "y_pred_test = rf.predict(x_test)  \n",
    "y_pred_val = rf.predict(x_val) "
   ],
   "metadata": {
    "collapsed": false,
    "ExecuteTime": {
     "end_time": "2024-08-17T04:15:57.298656900Z",
     "start_time": "2024-08-17T04:15:57.198045600Z"
    }
   },
   "id": "b223e54b7af8e9bb"
  },
  {
   "cell_type": "markdown",
   "source": [
    "from sklearn.model_selection import GridSearchCV, cross_val_score  \n",
    "param_grid = {  \n",
    "    'n_estimators': [1,200],  \n",
    "    'max_depth': [None, 1,200,10],  \n",
    "    'min_samples_split': [2, 5, 10],  \n",
    "    'min_samples_leaf': [1, 2, 4],  \n",
    "}  \n",
    "grid_search = GridSearchCV(RandomForestRegressor(), param_grid, cv=5)  \n",
    "grid_search.fit(x_train, y_train)  \n",
    "best_rf = grid_search.best_estimator_\n",
    "print(\"最优参数组合：\", best_rf)"
   ],
   "metadata": {
    "collapsed": false
   },
   "id": "f600aff9e4aeed2a"
  },
  {
   "cell_type": "markdown",
   "source": [
    "# 评估模型性能  "
   ],
   "metadata": {
    "collapsed": false
   },
   "id": "6e5bcebc8847037b"
  },
  {
   "cell_type": "code",
   "execution_count": 40,
   "outputs": [
    {
     "name": "stdout",
     "output_type": "stream",
     "text": [
      "Mean cross-validation score: 0.90\n",
      "RF training\t\tR2:0.9832\t\tMSE:0.003010\t\tMAE:0.026205\n",
      "RF test  \t\tR2:0.9720\t\tMSE:0.005049\t\tMAE:0.044405\n",
      "RF valid \t\tR2:0.9828\t\tMSE:0.003508\t\tMAE:0.035760\n"
     ]
    }
   ],
   "source": [
    "# 交叉验证得分  \n",
    "scores = cross_val_score(rf, x_train, y_train, cv=5)  \n",
    "print(\"Mean cross-validation score: %.2f\" % scores.mean())  \n",
    "\n",
    "print('RF training\\t\\tR2:{:.4f}\\t\\tMSE:{:.6f}\\t\\tMAE:{:.6f}'.format(rf.score(x_train,y_train), mean_squared_error(y_train, y_pred_train),\n",
    "                                                        mean_absolute_error(y_train, y_pred_train)))\n",
    "print('RF test  \\t\\tR2:{:.4f}\\t\\tMSE:{:.6f}\\t\\tMAE:{:.6f}'.format(rf.score(x_test,y_test), mean_squared_error(y_test, y_pred_test),\n",
    "                                                        mean_absolute_error(y_test, y_pred_test)))\n",
    "\n",
    "print('RF valid \\t\\tR2:{:.4f}\\t\\tMSE:{:.6f}\\t\\tMAE:{:.6f}'.format(rf.score(x_val,y_val), mean_squared_error(y_val, y_pred_val),\n",
    "                                                        mean_absolute_error(y_val, y_pred_val)))"
   ],
   "metadata": {
    "collapsed": false,
    "ExecuteTime": {
     "end_time": "2024-08-17T04:15:57.407942300Z",
     "start_time": "2024-08-17T04:15:57.242102900Z"
    }
   },
   "id": "10adf41462aebf56"
  },
  {
   "cell_type": "code",
   "execution_count": 41,
   "outputs": [
    {
     "data": {
      "text/plain": "<Figure size 600x600 with 1 Axes>",
      "image/png": "[encoded data removed]"
     },
     "metadata": {},
     "output_type": "display_data"
    }
   ],
   "source": [
    "def scatter_plots(model_name, y_pred_train, y_pred_test,y_pred_val, y_train, y_test, y_val):  \n",
    "    # 设置图的大小  \n",
    "    plt.figure(figsize=(6, 6))  \n",
    "      \n",
    "    # 在同一个图中绘制所有点的散点图  \n",
    "    plt.scatter(y_train, y_pred_train, color='blue', label='Train', alpha=0.6)  \n",
    "    plt.scatter(y_test, y_pred_test, color='green', label='Test', alpha=0.6)  \n",
    "    plt.scatter(y_val, y_pred_val, color='red', label='Validation', alpha=0.6)  \n",
    "      \n",
    "    # 绘制完美拟合线  \n",
    "    limits = [  \n",
    "        min(y_train.min(), y_test.min(), y_val.min()),  # x min  \n",
    "        max(y_train.max(), y_test.max(), y_val.max()),  # x max  \n",
    "        min(y_pred_train.min(), y_pred_test.min(), y_pred_val.min()),  # y min  \n",
    "        max(y_pred_train.max(), y_pred_test.max(), y_pred_val.max()),  # y max  \n",
    "    ]  \n",
    "    plt.plot(limits[:2], limits[2:], 'k--', lw=2)  \n",
    "\n",
    "    # 设置图的标题和坐标轴标签  \n",
    "    plt.title('RF-Length')  \n",
    "    plt.xlabel('Actual Values')  \n",
    "    plt.ylabel('Predicted Values')  \n",
    "    # 禁用网格  \n",
    "    plt.grid(False)  \n",
    "    # 显示图例  \n",
    "    plt.legend()  \n",
    "      \n",
    "    # 显示图形  \n",
    "    plt.show()  \n",
    "\n",
    "# 调用scatter_plots函数  \n",
    "scatter_plots('rf', y_pred_train, y_pred_test, y_pred_val, y_train, y_test, y_val)\n"
   ],
   "metadata": {
    "collapsed": false,
    "ExecuteTime": {
     "end_time": "2024-08-17T04:15:57.534665Z",
     "start_time": "2024-08-17T04:15:57.407942300Z"
    }
   },
   "id": "d024b783467bfee3"
  },
  {
   "cell_type": "code",
   "execution_count": 42,
   "outputs": [],
   "source": [
    "import pickle\n",
    "# save RF model\n",
    "model_name = 'rf.pkl' # 模型名称.plk\n",
    "path =''\n",
    "with open(path+'rf.pkl','wb') as f:\n",
    "    pickle.dump(rf, f)"
   ],
   "metadata": {
    "collapsed": false,
    "ExecuteTime": {
     "end_time": "2024-08-17T04:15:57.540670800Z",
     "start_time": "2024-08-17T04:15:57.534665Z"
    }
   },
   "id": "76c0dc943140ac75"
  },
  {
   "cell_type": "code",
   "execution_count": 43,
   "outputs": [],
   "source": [
    "#y_train"
   ],
   "metadata": {
    "collapsed": false,
    "ExecuteTime": {
     "end_time": "2024-08-17T04:15:57.550431300Z",
     "start_time": "2024-08-17T04:15:57.537668Z"
    }
   },
   "id": "917e62f4f59690d1"
  },
  {
   "cell_type": "code",
   "execution_count": 44,
   "outputs": [],
   "source": [
    "#y_pred_train"
   ],
   "metadata": {
    "collapsed": false,
    "ExecuteTime": {
     "end_time": "2024-08-17T04:15:57.551432300Z",
     "start_time": "2024-08-17T04:15:57.545036700Z"
    }
   },
   "id": "3309e9b0cc602257"
  },
  {
   "cell_type": "code",
   "execution_count": 45,
   "outputs": [],
   "source": [
    "#y_test"
   ],
   "metadata": {
    "collapsed": false,
    "ExecuteTime": {
     "end_time": "2024-08-17T04:15:57.563483400Z",
     "start_time": "2024-08-17T04:15:57.552434100Z"
    }
   },
   "id": "7d991f50beb2a144"
  },
  {
   "cell_type": "code",
   "execution_count": 46,
   "outputs": [],
   "source": [
    "#y_pred_test"
   ],
   "metadata": {
    "collapsed": false,
    "ExecuteTime": {
     "end_time": "2024-08-17T04:15:57.612177100Z",
     "start_time": "2024-08-17T04:15:57.557024Z"
    }
   },
   "id": "d55242499219c710"
  },
  {
   "cell_type": "code",
   "execution_count": 47,
   "outputs": [],
   "source": [
    "#y_val"
   ],
   "metadata": {
    "collapsed": false,
    "ExecuteTime": {
     "end_time": "2024-08-17T04:15:57.613178300Z",
     "start_time": "2024-08-17T04:15:57.563483400Z"
    }
   },
   "id": "7d948ae4ead5c215"
  },
  {
   "cell_type": "code",
   "execution_count": 48,
   "outputs": [],
   "source": [
    "#y_pred_val"
   ],
   "metadata": {
    "collapsed": false,
    "ExecuteTime": {
     "end_time": "2024-08-17T04:15:57.613178300Z",
     "start_time": "2024-08-17T04:15:57.571398500Z"
    }
   },
   "id": "5fb26e53d1280bc2"
  },
  {
   "cell_type": "code",
   "execution_count": 49,
   "outputs": [
    {
     "name": "stdout",
     "output_type": "stream",
     "text": [
      "[0.82322918]\n"
     ]
    },
    {
     "name": "stderr",
     "output_type": "stream",
     "text": [
      "D:\\Python\\Lib\\site-packages\\sklearn\\base.py:465: UserWarning: X does not have valid feature names, but StandardScaler was fitted with feature names\n",
      "  warnings.warn(\n"
     ]
    }
   ],
   "source": [
    "#将这些特征值放入一个列表中，注意这是一个二维列表，即使只有一个样本  \n",
    "new_data = np.array( [ [ 350,\n",
    "                         75,\n",
    "                         175,\n",
    "                         350,\n",
    "                         50,\n",
    "                         15,\n",
    "                         5,\n",
    "                         3.33,\n",
    "                         10000,\n",
    "                         1,\n",
    "                         0.9,\n",
    "                         535,\n",
    "                         41.66612502,\n",
    "                         4.952834746,\n",
    "                         8.651267307,\n",
    "                         9.516906684\n",
    "                        ] ] )# 列表中的列表，每个内部列表代表一个样本  \n",
    "# 使用训练时相同的scaler对new_data进行标准化  \n",
    "new_data_scaled = zscore.transform(new_data)  \n",
    "# 使用模型进行预测  \n",
    "prediction = rf.predict(new_data_scaled)  \n",
    "print(prediction)  # 因为只有一个样本，所以prediction将是一个包含单个预测值的数组"
   ],
   "metadata": {
    "collapsed": false,
    "ExecuteTime": {
     "end_time": "2024-08-17T04:15:57.613178300Z",
     "start_time": "2024-08-17T04:15:57.576708600Z"
    }
   },
   "id": "fb15f41903079e15"
  },
  {
   "cell_type": "markdown",
   "source": [
    "#   PDP"
   ],
   "metadata": {
    "collapsed": false
   },
   "id": "9b46a5371ecd5820"
  },
  {
   "cell_type": "code",
   "execution_count": 50,
   "outputs": [
    {
     "data": {
      "text/plain": "<Figure size 600x600 with 2 Axes>",
      "image/png": "[encoded data removed]"
     },
     "metadata": {},
     "output_type": "display_data"
    }
   ],
   "source": [
    "from matplotlib import pyplot as plt\n",
    "from sklearn.inspection import PartialDependenceDisplay\n",
    "\n",
    "x_train, x_test_val, y_train, y_test_val = train_test_split(xx, yy, shuffle=True,test_size=0.3, random_state=1)\n",
    "    #x_训练集，x_测试验证集，y_训练集，y_测试验证集                    划分前将数据集进行随机打乱，并按照7：3划分，且划分方式统一\n",
    "x_test, x_val, y_test, y_val = train_test_split(x_test_val, y_test_val, shuffle=True,test_size=0.25, random_state=1)\n",
    "    #x_测试集，x_验证集，y_测试集，y_验证集                           划分前将数据集进行随机打乱，并按照3：1划分，且划分方式统一\n",
    "    \n",
    "feature_names = ['Time', 'Deep', 'Length', 'HRT', 'COD', 'TN', 'NH4-N', 'C/N', 'c(A)', 'CSC', 'XLogP3', 'WI', 'RA(P)', 'RA(F)', 'RA(B)', 'RA(A)']  \n",
    "\n",
    "feat_name = ('Time')\n",
    "PartialDependenceDisplay.from_estimator(rf, x_train, [feat_name])\n",
    "plt.gcf().set_size_inches(6, 6)  # w 是宽度，h 是高度  \n",
    "plt.show()"
   ],
   "metadata": {
    "collapsed": false,
    "ExecuteTime": {
     "end_time": "2024-08-17T04:15:57.752336600Z",
     "start_time": "2024-08-17T04:15:57.586728Z"
    }
   },
   "id": "33d7664bf01720ca"
  },
  {
   "cell_type": "code",
   "execution_count": 51,
   "outputs": [
    {
     "ename": "ModuleNotFoundError",
     "evalue": "No module named 'pycebox'",
     "output_type": "error",
     "traceback": [
      "\u001B[1;31m---------------------------------------------------------------------------\u001B[0m",
      "\u001B[1;31mModuleNotFoundError\u001B[0m                       Traceback (most recent call last)",
      "Cell \u001B[1;32mIn[51], line 1\u001B[0m\n\u001B[1;32m----> 1\u001B[0m \u001B[38;5;28;01mfrom\u001B[39;00m \u001B[38;5;21;01mpycebox\u001B[39;00m\u001B[38;5;21;01m.\u001B[39;00m\u001B[38;5;21;01mice\u001B[39;00m \u001B[38;5;28;01mimport\u001B[39;00m ice, ice_plot\n\u001B[0;32m      3\u001B[0m \u001B[38;5;66;03m# 假设您已经训练了随机森林模型，并且准备好特征和目标变量\u001B[39;00m\n\u001B[0;32m      5\u001B[0m feature_names \u001B[38;5;241m=\u001B[39m [\u001B[38;5;124m'\u001B[39m\u001B[38;5;124mTime\u001B[39m\u001B[38;5;124m'\u001B[39m, \u001B[38;5;124m'\u001B[39m\u001B[38;5;124mDeep\u001B[39m\u001B[38;5;124m'\u001B[39m, \u001B[38;5;124m'\u001B[39m\u001B[38;5;124mLength\u001B[39m\u001B[38;5;124m'\u001B[39m, \u001B[38;5;124m'\u001B[39m\u001B[38;5;124mHRT\u001B[39m\u001B[38;5;124m'\u001B[39m, \u001B[38;5;124m'\u001B[39m\u001B[38;5;124mCOD\u001B[39m\u001B[38;5;124m'\u001B[39m, \u001B[38;5;124m'\u001B[39m\u001B[38;5;124mTN\u001B[39m\u001B[38;5;124m'\u001B[39m, \u001B[38;5;124m'\u001B[39m\u001B[38;5;124mNH4-N\u001B[39m\u001B[38;5;124m'\u001B[39m, \u001B[38;5;124m'\u001B[39m\u001B[38;5;124mC/N\u001B[39m\u001B[38;5;124m'\u001B[39m, \u001B[38;5;124m'\u001B[39m\u001B[38;5;124mc(A)\u001B[39m\u001B[38;5;124m'\u001B[39m, \u001B[38;5;124m'\u001B[39m\u001B[38;5;124mCSC\u001B[39m\u001B[38;5;124m'\u001B[39m, \u001B[38;5;124m'\u001B[39m\u001B[38;5;124mXLogP3\u001B[39m\u001B[38;5;124m'\u001B[39m, \u001B[38;5;124m'\u001B[39m\u001B[38;5;124mWI\u001B[39m\u001B[38;5;124m'\u001B[39m, \u001B[38;5;124m'\u001B[39m\u001B[38;5;124mRA(P)\u001B[39m\u001B[38;5;124m'\u001B[39m, \u001B[38;5;124m'\u001B[39m\u001B[38;5;124mRA(F)\u001B[39m\u001B[38;5;124m'\u001B[39m,                  \u001B[38;5;124m'\u001B[39m\u001B[38;5;124mRA(B)\u001B[39m\u001B[38;5;124m'\u001B[39m, \u001B[38;5;124m'\u001B[39m\u001B[38;5;124mRA(A)\u001B[39m\u001B[38;5;124m'\u001B[39m]  \n",
      "\u001B[1;31mModuleNotFoundError\u001B[0m: No module named 'pycebox'"
     ]
    }
   ],
   "source": [
    "from pycebox.ice import ice, ice_plot\n",
    "\n",
    "# 假设您已经训练了随机森林模型，并且准备好特征和目标变量\n",
    "\n",
    "feature_names = ['Time', 'Deep', 'Length', 'HRT', 'COD', 'TN', 'NH4-N', 'C/N', 'c(A)', 'CSC', 'XLogP3', 'WI', 'RA(P)', 'RA(F)',                  'RA(B)', 'RA(A)']  \n",
    "# 选择一个特征来生成ICE图\n",
    "feature_of_interest = ('Time')\n",
    "\n",
    "# 使用pycebox生成ICE数据\n",
    "ice_df = ice(xx, feature_of_interest, rf.predict, num_grid_points=20)\n",
    "\n",
    "# 使用pycebox绘制ICE图\n",
    "ice_plot(ice_df, c='dimgray', linewidth=0.5, plot_pdp=True, plot_points=True)\n"
   ],
   "metadata": {
    "collapsed": false,
    "ExecuteTime": {
     "end_time": "2024-08-17T04:15:57.752336600Z",
     "start_time": "2024-08-17T04:15:57.746331100Z"
    }
   },
   "id": "d43509a652d4a4ad"
  }
 ],
 "metadata": {
  "kernelspec": {
   "display_name": "Python 3",
   "language": "python",
   "name": "python3"
  },
  "language_info": {
   "codemirror_mode": {
    "name": "ipython",
    "version": 2
   },
   "file_extension": ".py",
   "mimetype": "text/x-python",
   "name": "python",
   "nbconvert_exporter": "python",
   "pygments_lexer": "ipython2",
   "version": "2.7.6"
  }
 },
 "nbformat": 4,
 "nbformat_minor": 5
}
