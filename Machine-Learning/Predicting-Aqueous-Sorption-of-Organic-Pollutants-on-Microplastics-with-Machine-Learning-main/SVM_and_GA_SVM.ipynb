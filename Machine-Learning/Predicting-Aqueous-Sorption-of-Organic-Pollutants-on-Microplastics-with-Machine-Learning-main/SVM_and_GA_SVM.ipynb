{
 "cells": [
  {
   "cell_type": "code",
   "execution_count": 75,
   "metadata": {
    "ExecuteTime": {
     "end_time": "2024-05-09T14:23:24.735169100Z",
     "start_time": "2024-05-09T14:23:24.698334800Z"
    }
   },
   "outputs": [],
   "source": [
    "%matplotlib inline\n",
    "import matplotlib.pyplot as plt\n",
    "plt.rcParams[\"figure.figsize\"] = (10, 10)  #set default figure size\n",
    "import numpy as np\n",
    "\n",
    "import pandas as pd\n",
    "from ailearn.Swarm import ES\n",
    "\n",
    "from sklearn.model_selection import train_test_split\n",
    "from sklearn.preprocessing import StandardScaler, MinMaxScaler\n",
    "\n",
    "from sklearn.svm import SVC,SVR\n",
    "from sklearn.metrics import mean_absolute_error,mean_squared_error,r2_score\n",
    "from sklearn.decomposition import PCA  \n",
    "import matplotlib.font_manager as fm  \n",
    "\n",
    "def inverse_scaler(y_scaled, y_true):   \n",
    "    scaler =MinMaxScaler()              \n",
    "    scaler.fit(np.reshape(yy.values,(len(yy),1)))      \n",
    "    y_inverse = scaler.inverse_transform(y_scaled.reshape(-1,1))       \n",
    "    return y_inverse    "
   ]
  },
  {
   "cell_type": "code",
   "execution_count": 76,
   "outputs": [],
   "source": [
    "def mean_absolute_percentage_error(y_true, y_pred):  \n",
    "    y_true = np.array(y_true)  \n",
    "    y_pred = np.array(y_pred)  \n",
    "    mask = y_true != 0  \n",
    "    y_true_masked = y_true[mask]  \n",
    "    y_pred_masked = y_pred[mask]  \n",
    "    diff = np.abs((y_true_masked - y_pred_masked) / y_true_masked)  \n",
    "    return np.mean(diff) * 100 "
   ],
   "metadata": {
    "collapsed": false,
    "ExecuteTime": {
     "end_time": "2024-05-09T14:23:24.735169100Z",
     "start_time": "2024-05-09T14:23:24.701385600Z"
    }
   }
  },
  {
   "cell_type": "code",
   "execution_count": 77,
   "metadata": {
    "ExecuteTime": {
     "end_time": "2024-05-09T14:23:24.763553500Z",
     "start_time": "2024-05-09T14:23:24.717858400Z"
    }
   },
   "outputs": [],
   "source": [
    "def split(xx, yy):      #定义一个函数用来划分训练集，测试集，验证集\n",
    "    zscore = StandardScaler()   #用于数据标准化处理的缩放器\n",
    "    scaler =MinMaxScaler()   #用于数据最小最大缩放处理的缩放器\n",
    "    xx = zscore.fit_transform(xx)  \n",
    "    yy = scaler.fit_transform(np.reshape(yy.values,(len(yy),1))) \n",
    "    \n",
    "    x_train, x_test_val, y_train, y_test_val = train_test_split(xx, yy, shuffle=True,test_size=0.3, random_state=1)\n",
    "    #x_训练集，x_测试验证集，y_训练集，y_测试验证集                    划分前将数据集进行随机打乱，并按照6：4划分，且划分方式统一\n",
    "    x_test, x_val, y_test, y_val = train_test_split(x_test_val, y_test_val, shuffle=True,test_size=0.25, random_state=1)\n",
    "    #x_测试集，x_验证集，y_测试集，y_验证集                           划分前将数据集进行随机打乱，并按照3：1划分，且划分方式统一\n",
    "    \n",
    "    y2 = yy.ravel()     #将yy数组转化为一维数组并存在y2中\n",
    "    ind_train = [np.argwhere(y2 == y_train[i])[0].item() for i in range(len(y_train)) if y_train[i] in y2]\n",
    "                                                        #这是一个循环，遍历y_train中的每一个元素，判断y_train中的当前标签y_train[i]是否存在于y2中\n",
    "                #找到y2中所有等于y_train[i]的元素的索引，返回一个二维数组，然后用[0].item()取得第一行赋值给ind_train生成列表\n",
    "    ind_test = [np.argwhere(y2 == y_test[i])[0].item() for i in range(len(y_test)) if y_test[i] in y2]\n",
    "    ind_val = [np.argwhere(y2 == y_val[i])[0].item() for i in range(len(y_val)) if y_val[i] in y2]\n",
    "   \n",
    "    y_train = y_train.ravel()       #将y_train数组转化为一维数组\n",
    "    y_test = y_test.ravel()         #将y_text数组转化为一维数组\n",
    "    y_val = y_val.ravel()           #将y_val数组转化为一维数组\n",
    "    \n",
    "    return x_train, x_test, x_val, y_train, y_test, y_val, xx, yy, np.asarray(ind_train), np.asarray(ind_train), np.asarray(ind_val)\n",
    "    #返回训练集，测试集，验证集的特征数据，和标签（目标变量）数据，原特数据，原目标变量数据，以及转化为数组的ind_train，ind_train，ind_val"
   ]
  },
  {
   "cell_type": "markdown",
   "source": [
    "def scatter_plots(model_name,y_pred, y_pred_train, y_pred_test, y_pred_val, yy, y_scaled, y_train, y_test, y_val) :\n",
    "    R2_score = r2_score(y_scaled,y_pred)\n",
    "    y_pred2 = inverse_scaler(y_pred,yy)\n",
    "    y_pred_train2 = inverse_scaler(y_pred_train,yy)\n",
    "    y_pred_test2 = inverse_scaler(y_pred_test,yy)\n",
    "    y_pred_val2 = inverse_scaler(y_pred_val,yy)\n",
    "    plt.scatter(inverse_scaler(y_train,yy),y_pred_train2, label='train')\n",
    "    plt.scatter(inverse_scaler(y_test,yy),y_pred_test2, label='test')\n",
    "    plt.scatter(inverse_scaler(y_val,yy),y_pred_val2, label='val')\n",
    "    plt.plot(np.linspace(0,1,10),np.linspace(0,1,10),c='r', label='1:1')\n",
    "    labels = df.index\n",
    "    values = []\n",
    "    drop_ind = []\n",
    "    i = 0\n",
    "    for label in labels:\n",
    "        if np.round(y_pred2[i],2) not in values :\n",
    "            values.append(np.round(y_pred2[i],3))\n",
    "            a = 5\n",
    "        else:\n",
    "            a = a + 15\n",
    "        pos = (a, a)\n",
    "        i = i+1\n",
    "    plt.title(model_name)\n",
    "    plt.legend()\n",
    "    plt.xlabel('True values')\n",
    "    plt.ylabel('predictive values')"
   ],
   "metadata": {
    "collapsed": false
   }
  },
  {
   "cell_type": "code",
   "execution_count": 78,
   "outputs": [],
   "source": [
    "def scatter_plots(model_name, y_pred_train, y_pred_test, y_pred_val, y_train, y_test, y_val):  \n",
    "    # 设置图的大小  \n",
    "    plt.figure(figsize=(6, 6))  \n",
    "  \n",
    "    # 在同一个图中绘制所有点的散点图  \n",
    "    plt.scatter(y_train, y_pred_train, color='blue', label='Train', alpha=0.6)  \n",
    "    plt.scatter(y_test, y_pred_test, color='green', label='Test', alpha=0.6)  \n",
    "    plt.scatter(y_val, y_pred_val, color='red', label='Validation', alpha=0.6)  \n",
    "  \n",
    "    # 计算完美拟合线的极限值  \n",
    "    limits = [  \n",
    "        min(y_train.min(), y_test.min(), y_val.min()),  # x min  \n",
    "        max(y_train.max(), y_test.max(), y_val.max()),  # x max  \n",
    "        min(y_pred_train.min(), y_pred_test.min(), y_pred_val.min()),  # y min  \n",
    "        max(y_pred_train.max(), y_pred_test.max(), y_pred_val.max()),  # y max  \n",
    "    ]  \n",
    "      \n",
    "    # 绘制完美拟合线  \n",
    "    plt.plot(limits[:2], limits[2:], 'k--', lw=2)  \n",
    "    \n",
    "    # 设置图的标题和坐标轴标签  \n",
    "    plt.title('GA-SVM-C(A)')  \n",
    "    plt.xlabel('Actual Values')  \n",
    "    plt.ylabel('Predicted Values')  \n",
    "  \n",
    "    # 禁用网格  \n",
    "    plt.grid(False)  \n",
    "  \n",
    "    # 显示图例  \n",
    "    plt.legend()  \n",
    "  \n",
    "    # 显示图形  \n",
    "    plt.show()"
   ],
   "metadata": {
    "collapsed": false,
    "ExecuteTime": {
     "end_time": "2024-05-09T14:23:24.763553500Z",
     "start_time": "2024-05-09T14:23:24.723576200Z"
    }
   }
  },
  {
   "cell_type": "code",
   "execution_count": 79,
   "metadata": {
    "ExecuteTime": {
     "end_time": "2024-05-09T14:23:24.763553500Z",
     "start_time": "2024-05-09T14:23:24.732150500Z"
    }
   },
   "outputs": [
    {
     "name": "stdout",
     "output_type": "stream",
     "text": [
      "original datasize: (222, 17)\n",
      "adjusted datasize: (222, 17)\n",
      "data:\n",
      "   Time  Deep  Length   HRT     COD    TN  NH4-N    C/N    c(A)  CSC  XLogP3  \\\n",
      "0    90  12.5    45.0  72.0  299.46  26.8  24.07  11.17  100.00   11    -0.1   \n",
      "1    90  45.0    12.5  72.0  299.46  26.8  24.07  11.17  100.00   11    -0.1   \n",
      "2    84  10.0    30.0  72.0   66.60   3.6   2.35  18.50    0.18   11     0.2   \n",
      "3    84  10.0    90.0  72.0   66.60   3.6   2.35  18.50    0.18   11     0.2   \n",
      "4    84  50.0    30.0  72.0   66.60   3.6   2.35  18.50    0.18   11     0.2   \n",
      "\n",
      "    WI    RA(P)   RA(F)    RA(B)   RA(A)   RR（A）  \n",
      "0  885  48.0057  1.8966   9.9499  2.3363  0.9893  \n",
      "1  885  62.3032  1.6632   6.7403  0.9921  0.9893  \n",
      "2  943  50.8357  0.9988  10.7969  7.0869  0.7094  \n",
      "3  943  46.2696  1.4269  11.2249  2.6160  0.7094  \n",
      "4  943  38.7070  0.6659   6.9918  1.5220  0.7094  \n"
     ]
    }
   ],
   "source": [
    "df = pd.read_csv('MP_data_0421_C(A).csv', index_col=None, engine='c') \n",
    "print('original datasize:', df.shape)\n",
    "df.dropna(inplace=True)\n",
    "print('adjusted datasize:', df.shape)\n",
    "print('data:')\n",
    "print(df.head())\n",
    "np.random.seed(42)"
   ]
  },
  {
   "cell_type": "code",
   "execution_count": 80,
   "metadata": {
    "ExecuteTime": {
     "end_time": "2024-05-09T14:23:24.763553500Z",
     "start_time": "2024-05-09T14:23:24.744410400Z"
    }
   },
   "outputs": [
    {
     "name": "stdout",
     "output_type": "stream",
     "text": [
      "目标变量是  RR（A）\n",
      "特征变量是  ['Time', 'Deep', 'Length', 'HRT', 'COD', 'TN', 'NH4-N', 'C/N', 'c(A)', 'CSC', 'XLogP3', 'WI', 'RA(P)', 'RA(F)', 'RA(B)', 'RA(A)']\n",
      "样本大小 is  222 ; 特征变量的数量 is  16\n",
      "训练集数据大小 is  155 ; 测试集数据大小 is  50 ; 验证集数据大小 is  17\n"
     ]
    }
   ],
   "source": [
    "xx= df.iloc[:,0:-1] # predictors\n",
    "yy=df.iloc[:,-1]# target - kd\n",
    "x_train, x_test,x_val, y_train, y_test,y_val, x_scaled, y_scaled, ind_train, ind_test,ind_val = split(xx, yy)\n",
    "\n",
    "print('目标变量是 ', yy.name)\n",
    "print('特征变量是 ', xx.columns.tolist())\n",
    "print('样本大小 is ', xx.shape[0], '; 特征变量的数量 is ', xx.shape[1])\n",
    "print('训练集数据大小 is ', x_train.shape[0], '; 测试集数据大小 is ', x_test.shape[0],'; 验证集数据大小 is ', x_val.shape[0])"
   ]
  },
  {
   "cell_type": "code",
   "execution_count": 81,
   "metadata": {
    "ExecuteTime": {
     "end_time": "2024-05-09T14:23:24.763553500Z",
     "start_time": "2024-05-09T14:23:24.751071900Z"
    }
   },
   "outputs": [
    {
     "name": "stdout",
     "output_type": "stream",
     "text": [
      "***Traditional support vector machine***\n",
      "hyperparameters: C= 1.0 gamma= 0.04893180656962056 epsilon= 0.1\n",
      "SVM training     R2:0.93       rmse:0.012        mae:13.331\n",
      "SVM test         R2:0.87       rmse:0.024        mae:14.839\n",
      "SVM valid        R2:0.84       rmse:0.033        mae:18.389\n"
     ]
    }
   ],
   "source": [
    "gamm=1 / (22 * x_train.var()) # gamma setting\n",
    "gamm_pusu=gamm\n",
    "# print(gamm)\n",
    "print(\"***Traditional support vector machine***\")\n",
    "print('hyperparameters: C=', 1.0, 'gamma=', gamm, 'epsilon=', 0.1)\n",
    "SVM_model = SVR(kernel='rbf',C=1.0, gamma=gamm,epsilon=0.1)\n",
    "SVM_model.fit(x_train, y_train)\n",
    "\n",
    "y_pred_train=SVM_model.predict(x_train)\n",
    "y_pred_test=SVM_model.predict(x_test)\n",
    "y_pred_val=SVM_model.predict(x_val)\n",
    "\n",
    "print('SVM training     R2:{:.2f}       rmse:{:.3f}        mae:{:.3f}'.format(SVM_model.score(x_train, y_train), mean_squared_error(y_train, y_pred_train), mean_absolute_percentage_error(y_train, y_pred_train)))    \n",
    "print('SVM test         R2:{:.2f}       rmse:{:.3f}        mae:{:.3f}'.format(SVM_model.score(x_test, y_test), mean_squared_error(y_test, y_pred_test), mean_absolute_percentage_error(y_test, y_pred_test)))    \n",
    "print('SVM valid        R2:{:.2f}       rmse:{:.3f}        mae:{:.3f}'.format(SVM_model.score(x_val, y_val), mean_squared_error(y_val, y_pred_val), mean_absolute_percentage_error(y_val, y_pred_val)))"
   ]
  },
  {
   "cell_type": "code",
   "execution_count": 82,
   "metadata": {
    "ExecuteTime": {
     "end_time": "2024-05-09T14:23:25.206625900Z",
     "start_time": "2024-05-09T14:23:24.766059100Z"
    }
   },
   "outputs": [
    {
     "name": "stdout",
     "output_type": "stream",
     "text": [
      "BEST hyperparameters: C= 7.672984093974131 gamma= 0.04893180656962056 epsilon= 0.005\n",
      "Mean cross-validation score: 0.80\n",
      "GA-SVM training\t\tR2:0.9814\t\tMSE:0.003347\t\tMAE:0.019187\n",
      "GA-SVM test  \t\tR2:0.9308\t\tMSE:0.012480\t\tMAE:0.076979\n",
      "GA-SVM valid \t\tR2:0.8820\t\tMSE:0.024131\t\tMAE:0.106183\n"
     ]
    }
   ],
   "source": [
    "# Genetic algorithm - Support vector machine\n",
    "def SVM_model(C,gamma,epsilon,x_train,x_test,y_train):\n",
    "    \n",
    "    model = SVR(kernel='rbf',C=C, gamma=gamma,epsilon=epsilon)\n",
    "    model.fit(x_train, y_train)\n",
    "    y_pred_test=model.predict(x_test)\n",
    "    y_pred_train=model.predict(x_train)\n",
    "    \n",
    "    return model, y_pred_train, y_pred_test\n",
    "\n",
    "\n",
    "def GA_SVM(x_train,x_test,y_train, y_test,basename='prediction'):\n",
    "    \n",
    "    gamm=1 / (22 * x_train.var()) # gamma setting\n",
    "    gamm_pusu=gamm\n",
    "    EPOCHS=20\n",
    "\n",
    "    # for ES's evaluation\n",
    "    def svm_score1(C, gamma,epsilon):\n",
    "        model = SVR(C=C, gamma=gamma,epsilon=epsilon)\n",
    "        model.fit(x_train, y_train.ravel())\n",
    "        # print(model.score(x_test, y_test))\n",
    "        return model.score(x_test, y_test.ravel())\n",
    "    \n",
    "    p = ES(svm_score1,param_len=3,size=10,x_min=[1, gamm_pusu,0.005], x_max=[10, 1,0.15],alpha=0.1) #svm_score\n",
    "    \n",
    "    C, gamma,epsilon = p.solve(epoch=EPOCHS,verbose=False)\n",
    "\n",
    "    print('BEST hyperparameters: C=', C, 'gamma=', gamma,'epsilon=',epsilon)\n",
    "    GA_model, y_pred_train, y_pred_test = SVM_model(C,gamma,epsilon,x_train,x_test, y_train)\n",
    "    \n",
    "    return  GA_model\n",
    "\n",
    "\n",
    "ga_svm = GA_SVM(x_train,x_test,y_train,y_test)\n",
    "y_pred_train = ga_svm.predict(x_train)    \n",
    "y_pred_test = ga_svm.predict(x_test)    \n",
    "y_pred_val = ga_svm.predict(x_val)  \n",
    "\n",
    "from sklearn.model_selection import GridSearchCV, cross_val_score\n",
    "# 交叉验证得分  \n",
    "scores = cross_val_score(ga_svm, x_train, y_train, cv=5)  \n",
    "print(\"Mean cross-validation score: %.2f\" % scores.mean())  \n",
    "print('GA-SVM training\\t\\tR2:{:.4f}\\t\\tMSE:{:.6f}\\t\\tMAE:{:.6f}'.format(ga_svm.score(x_train,y_train), mean_squared_error(y_train, y_pred_train),mean_absolute_error(y_train, y_pred_train)))\n",
    "print('GA-SVM test  \\t\\tR2:{:.4f}\\t\\tMSE:{:.6f}\\t\\tMAE:{:.6f}'.format(ga_svm.score(x_test,y_test), mean_squared_error(y_test, y_pred_test),mean_absolute_error(y_test, y_pred_test)))\n",
    "print('GA-SVM valid \\t\\tR2:{:.4f}\\t\\tMSE:{:.6f}\\t\\tMAE:{:.6f}'.format(ga_svm.score(x_val,y_val), mean_squared_error(y_val, y_pred_val),mean_absolute_error(y_val, y_pred_val)))"
   ]
  },
  {
   "cell_type": "code",
   "execution_count": 83,
   "outputs": [
    {
     "data": {
      "text/plain": "<Figure size 600x600 with 1 Axes>",
      "image/png": "[encoded data removed]"
     },
     "metadata": {},
     "output_type": "display_data"
    }
   ],
   "source": [
    "y_pred = ga_svm.predict(x_scaled)\n",
    "#scatter_plots('GA_SVM',y_pred, y_pred_train, y_pred_test, y_pred_val, yy, y_scaled, y_train, y_test, y_val) \n",
    "# 调用scatter_plots函数  \n",
    "scatter_plots('ga_svm', y_pred_train, y_pred_test, y_pred_val, y_train, y_test, y_val)"
   ],
   "metadata": {
    "collapsed": false,
    "ExecuteTime": {
     "end_time": "2024-05-09T14:23:25.366424500Z",
     "start_time": "2024-05-09T14:23:25.207451400Z"
    }
   }
  },
  {
   "cell_type": "code",
   "execution_count": 84,
   "outputs": [],
   "source": [
    "import pickle\n",
    "# save GA_SVM model\n",
    "model_name = 'ga_svm.pkl' # 模型名称.plk\n",
    "path =''\n",
    "with open(path+'ga_svm.pkl','wb') as f:\n",
    "    pickle.dump(ga_svm, f)"
   ],
   "metadata": {
    "collapsed": false,
    "ExecuteTime": {
     "end_time": "2024-05-09T14:23:25.373696500Z",
     "start_time": "2024-05-09T14:23:25.366424500Z"
    }
   }
  },
  {
   "cell_type": "code",
   "execution_count": 85,
   "outputs": [
    {
     "data": {
      "text/plain": "array([0.    , 0.    , 0.631 , 0.5948, 0.7287, 0.983 , 0.954 , 0.4768,\n       0.9536, 1.    , 0.653 , 0.8315, 0.    , 0.    , 0.    , 0.    ,\n       0.5948, 0.7094, 0.5201, 0.    , 0.7132, 0.9787, 0.9784, 0.8118,\n       0.6903, 0.    , 0.653 , 1.    , 0.    , 0.    , 0.8653, 0.    ,\n       0.7276, 0.9844, 0.    , 0.6343, 1.    , 0.    , 0.9489, 0.    ,\n       0.895 , 0.7506, 0.    , 0.    , 0.    , 0.6343, 0.7683, 0.    ,\n       0.2431, 1.    , 0.7947, 0.    , 0.    , 0.8134, 0.    , 0.9787,\n       0.    , 0.9717, 0.882 , 0.3548, 0.    , 1.    , 0.7387, 0.9717,\n       0.7094, 0.9417, 0.6893, 0.7276, 0.895 , 0.631 , 0.1957, 0.9784,\n       0.    , 0.3765, 0.9844, 1.    , 0.    , 0.    , 0.    , 0.6343,\n       0.9472, 0.8215, 0.    , 0.9489, 0.    , 0.    , 0.983 , 0.    ,\n       0.6893, 0.7276, 0.955 , 1.    , 0.9717, 0.    , 0.2891, 0.    ,\n       0.9784, 0.5948, 0.9894, 0.9489, 0.    , 0.    , 0.285 , 0.9724,\n       0.3545, 0.    , 0.9724, 0.7094, 0.7276, 0.7132, 1.    , 0.9909,\n       0.    , 0.9729, 0.998 , 0.895 , 0.    , 0.7457, 0.6893, 0.9784,\n       0.882 , 0.9893, 0.    , 0.983 , 0.9784, 0.    , 0.6893, 0.    ,\n       0.    , 0.    , 0.    , 0.9784, 0.    , 0.    , 0.    , 1.    ,\n       0.    , 0.    , 0.5941, 0.983 , 0.9935, 0.9724, 0.9909, 0.    ,\n       0.    , 0.882 , 0.    , 0.9784, 0.    , 0.9909, 0.    , 0.    ,\n       0.    , 0.    , 0.8403])"
     },
     "execution_count": 85,
     "metadata": {},
     "output_type": "execute_result"
    }
   ],
   "source": [
    "y_train"
   ],
   "metadata": {
    "collapsed": false,
    "ExecuteTime": {
     "end_time": "2024-05-09T14:23:25.377094400Z",
     "start_time": "2024-05-09T14:23:25.369684600Z"
    }
   }
  },
  {
   "cell_type": "code",
   "execution_count": 86,
   "outputs": [
    {
     "data": {
      "text/plain": "array([-0.00468167, -0.00505599,  0.6261672 ,  0.58930493,  0.73385668,\n        0.97750169,  0.95861623,  0.48097821,  0.94863175,  0.99532481,\n        0.64792554,  0.82651821,  0.00513083, -0.00533553, -0.00501561,\n       -0.00504667,  0.62918674,  0.70440533,  0.5249178 ,  0.00492054,\n        0.71380144,  0.98371588,  0.97347113,  0.81682622,  0.69501574,\n       -0.0046716 ,  0.64798413,  1.00537776, -0.00468225, -0.00540581,\n        0.860011  , -0.00237231,  0.73291979,  0.98970305,  0.00500342,\n        0.64103534,  0.99533622,  0.00480396,  0.944017  ,  0.00492301,\n        0.89984381,  0.74604981,  0.00510382, -0.00229514,  0.00502082,\n        0.62912658,  0.77345793,  0.00415623,  0.39097652,  0.99522469,\n        0.789512  , -0.00486595,  0.00476665,  0.5344546 ,  0.00527482,\n        0.95362106, -0.00509293,  0.96700713,  0.8873199 ,  0.35971967,\n        0.00514935,  0.99790749,  0.7438034 ,  0.97719963,  0.65873044,\n        0.93628466,  0.68397041,  0.72285737,  0.90192113,  0.49003164,\n        0.51658787,  0.9724726 ,  0.00532594,  0.3712421 ,  0.97952345,\n        0.99508703,  0.00483075, -0.00555542,  0.00143518,  0.63935348,\n        0.95240975,  0.81689249,  0.00498145,  0.89272247,  0.11948348,\n       -0.00539346,  0.98766956,  0.00512491,  0.69411982,  0.73255675,\n        0.88928196,  0.99001111,  0.96680325,  0.00540708,  0.28424279,\n        0.00531197,  0.98319628,  0.59974299,  0.98410348,  0.95421264,\n        0.00508179, -0.00486922,  0.3896771 ,  0.96706985,  0.35938284,\n        0.00479665,  0.96743895,  0.70411318,  0.73248269,  0.71797482,\n        1.00711882,  0.98570968, -0.00485885,  0.97745856,  0.99027251,\n        0.91793307, -0.00508072,  0.7404772 ,  0.68436757,  0.98356899,\n        0.87694657,  0.98415117,  0.00499471,  0.97765398,  0.98346   ,\n       -0.00150916,  0.69437672, -0.00523205,  0.00520798,  0.00467755,\n       -0.0051838 ,  0.97353596,  0.0050684 ,  0.00517697,  0.00513826,\n        1.00517331,  0.00260699, -0.00151727,  0.30431094,  0.97750475,\n        0.91085463,  0.97759767,  0.9860419 ,  0.1869198 ,  0.00508612,\n        0.87744077,  0.00518759,  0.97325224, -0.00522477,  0.98568462,\n        0.00945275, -0.00511041,  0.35959358, -0.0049368 ,  0.8397548 ])"
     },
     "execution_count": 86,
     "metadata": {},
     "output_type": "execute_result"
    }
   ],
   "source": [
    "y_pred_train"
   ],
   "metadata": {
    "collapsed": false,
    "ExecuteTime": {
     "end_time": "2024-05-09T14:23:25.384356600Z",
     "start_time": "2024-05-09T14:23:25.378604800Z"
    }
   }
  },
  {
   "cell_type": "code",
   "execution_count": 87,
   "outputs": [
    {
     "data": {
      "text/plain": "array([0.    , 0.    , 0.882 , 0.    , 1.    , 0.6188, 0.    , 1.    ,\n       0.    , 0.6343, 1.    , 0.8728, 0.5201, 0.    , 0.7347, 0.    ,\n       0.6188, 0.9787, 0.    , 0.    , 0.9417, 0.    , 0.9276, 1.    ,\n       0.    , 0.    , 0.3279, 0.6188, 0.    , 0.9729, 0.    , 0.9724,\n       0.    , 0.3765, 0.285 , 0.9935, 0.9276, 0.9784, 0.8728, 0.9747,\n       0.    , 0.9472, 0.    , 0.9935, 0.9729, 0.7506, 0.7276, 0.7094,\n       0.9971, 0.9729])"
     },
     "execution_count": 87,
     "metadata": {},
     "output_type": "execute_result"
    }
   ],
   "source": [
    "y_test"
   ],
   "metadata": {
    "collapsed": false,
    "ExecuteTime": {
     "end_time": "2024-05-09T14:23:25.390926600Z",
     "start_time": "2024-05-09T14:23:25.384356600Z"
    }
   }
  },
  {
   "cell_type": "code",
   "execution_count": 88,
   "outputs": [
    {
     "data": {
      "text/plain": "array([ 0.27778295,  0.13186405,  0.7955901 ,  0.02718068,  1.00540419,\n        0.75074727,  0.02995241,  1.02340779, -0.00547055,  0.69567632,\n        0.96268655,  1.0375797 ,  0.50813086,  0.01147626,  0.70803752,\n        0.15131617,  0.84893744,  0.90645812,  0.07374876,  0.00295227,\n        0.9384316 ,  0.01906664,  0.59557956,  0.98523449,  0.12666521,\n        0.13300231,  0.37734715,  0.79468908,  0.01305548,  0.97138823,\n       -0.00450599,  0.95331709, -0.00727855,  0.211413  ,  0.22753583,\n        0.92093004,  0.66980447,  0.96350531,  0.99078779,  0.72776974,\n        0.04578693,  0.98931788,  0.02819985,  0.94622877,  0.98763643,\n        0.82291113,  0.76957561,  0.65859929,  0.89853044,  0.96140341])"
     },
     "execution_count": 88,
     "metadata": {},
     "output_type": "execute_result"
    }
   ],
   "source": [
    "y_pred_test"
   ],
   "metadata": {
    "collapsed": false,
    "ExecuteTime": {
     "end_time": "2024-05-09T14:23:25.443382800Z",
     "start_time": "2024-05-09T14:23:25.393507800Z"
    }
   }
  },
  {
   "cell_type": "code",
   "execution_count": 89,
   "outputs": [
    {
     "data": {
      "text/plain": "array([0.    , 0.974 , 0.9901, 0.8315, 0.    , 0.9472, 0.    , 0.5948,\n       0.786 , 0.9417, 0.    , 0.    , 0.    , 0.9909, 0.9893, 0.9472,\n       0.    ])"
     },
     "execution_count": 89,
     "metadata": {},
     "output_type": "execute_result"
    }
   ],
   "source": [
    "y_val"
   ],
   "metadata": {
    "collapsed": false,
    "ExecuteTime": {
     "end_time": "2024-05-09T14:23:25.443382800Z",
     "start_time": "2024-05-09T14:23:25.399683700Z"
    }
   }
  },
  {
   "cell_type": "code",
   "execution_count": 90,
   "outputs": [
    {
     "data": {
      "text/plain": "array([0.16225436, 0.77851056, 0.84137498, 0.78416118, 0.04545963,\n       0.98994793, 0.10217423, 0.62231111, 0.7695029 , 0.62020295,\n       0.00573438, 0.02739646, 0.03545732, 0.56947728, 0.84379441,\n       0.97727515, 0.02981909])"
     },
     "execution_count": 90,
     "metadata": {},
     "output_type": "execute_result"
    }
   ],
   "source": [
    "y_pred_val"
   ],
   "metadata": {
    "collapsed": false,
    "ExecuteTime": {
     "end_time": "2024-05-09T14:23:25.443382800Z",
     "start_time": "2024-05-09T14:23:25.405701600Z"
    }
   }
  }
 ],
 "metadata": {
  "kernelspec": {
   "display_name": "Python 3",
   "language": "python",
   "name": "python3"
  },
  "language_info": {
   "codemirror_mode": {
    "name": "ipython",
    "version": 3
   },
   "file_extension": ".py",
   "mimetype": "text/x-python",
   "name": "python",
   "nbconvert_exporter": "python",
   "pygments_lexer": "ipython3",
   "version": "3.8.5"
  }
 },
 "nbformat": 4,
 "nbformat_minor": 4
}
