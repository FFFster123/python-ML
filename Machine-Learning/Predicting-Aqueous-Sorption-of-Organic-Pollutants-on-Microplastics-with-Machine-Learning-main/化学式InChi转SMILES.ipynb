{
 "cells": [
  {
   "cell_type": "code",
   "execution_count": 28,
   "outputs": [],
   "source": [
    "from rdkit import Chem\n",
    "from rdkit.Chem import Descriptors\n",
    "from rdkit.Chem import AllChem  \n",
    "import matplotlib.pyplot as plt  \n",
    "import networkx as nx  \n",
    "import pygraphviz  \n",
    "from networkx.drawing.nx_agraph import graphviz_layout  \n",
    "from rdkit.Chem import rdchem  "
   ],
   "metadata": {
    "collapsed": false,
    "ExecuteTime": {
     "end_time": "2024-03-11T07:38:55.347528300Z",
     "start_time": "2024-03-11T07:38:55.332740400Z"
    }
   },
   "id": "a9bfacce3003caa9"
  },
  {
   "cell_type": "code",
   "execution_count": 29,
   "outputs": [
    {
     "name": "stdout",
     "output_type": "stream",
     "text": [
      "SMILES: Cc1cc(NS(=O)(=O)c2ccc(N)cc2)no1\n"
     ]
    }
   ],
   "source": [
    "def inchi_to_smiles(inchi_string):\n",
    "    # 使用rdkit从InChI字符串创建分子对象  \n",
    "    mol = Chem.MolFromInchi(inchi_string)\n",
    "\n",
    "    # 检查分子对象是否成功创建  \n",
    "    if mol is not None:\n",
    "        # 将分子对象转化为SMILES字符串  \n",
    "        smiles = Chem.MolToSmiles(mol, isomericSmiles=False, canonical=True)\n",
    "        return smiles\n",
    "    else:\n",
    "        return None\n",
    "\n",
    "    # 示例InChI字符串  \n",
    "inchi_string = \"InChI=1/C10H11N3O3S/c1-7-6-10(12-16-7)13-17(14,15)9-4-2-8(11)3-5-9/h2-6H,11H2,1H3,(H,12,13)\"\n",
    "\n",
    "# 转化InChI为SMILES  \n",
    "smiles_string = inchi_to_smiles(inchi_string)\n",
    "\n",
    "# 输出结果  \n",
    "print(\"SMILES:\", smiles_string)"
   ],
   "metadata": {
    "collapsed": false,
    "ExecuteTime": {
     "end_time": "2024-03-11T07:38:55.347528300Z",
     "start_time": "2024-03-11T07:38:55.336986400Z"
    }
   },
   "id": "3e974bff1a955ed0"
  },
  {
   "cell_type": "code",
   "execution_count": 30,
   "outputs": [],
   "source": [
    "mol = Chem.MolFromSmiles('Cc1cc(NS(=O)(=O)c2ccc(N)cc2)no1')  #使用SMILES字符串"
   ],
   "metadata": {
    "collapsed": false,
    "ExecuteTime": {
     "end_time": "2024-03-11T07:38:55.349536200Z",
     "start_time": "2024-03-11T07:38:55.342314500Z"
    }
   },
   "id": "5747a8a0a2cbd264"
  },
  {
   "cell_type": "raw",
   "source": [
    "Wiener指数"
   ],
   "metadata": {
    "collapsed": false
   },
   "id": "6496ac428b7c62c1"
  },
  {
   "cell_type": "code",
   "execution_count": 31,
   "outputs": [
    {
     "name": "stdout",
     "output_type": "stream",
     "text": [
      "Wiener Index of the compound from SMILES: 535.0\n"
     ]
    },
    {
     "data": {
      "text/plain": "<Figure size 640x480 with 1 Axes>",
      "image/png": "[encoded data removed]"
     },
     "metadata": {},
     "output_type": "display_data"
    }
   ],
   "source": [
    "# 假设你有一个SMILES字符串表示磺胺甲恶唑  \n",
    "smiles = 'Cc1cc(NS(=O)(=O)c2ccc(N)cc2)no1'  # 这是一个示例SMILES，不一定是磺胺甲恶唑的精确结构  \n",
    "  \n",
    "# 使用RDKit从SMILES字符串创建分子对象  \n",
    "mol = Chem.MolFromSmiles(smiles)  \n",
    "  \n",
    "# 将RDKit分子对象转换为NetworkX图  \n",
    "def mol_to_graph(mol):  \n",
    "    g = nx.Graph()  \n",
    "      \n",
    "    # 添加原子作为节点  \n",
    "    for atom in mol.GetAtoms():  \n",
    "        g.add_node(atom.GetIdx(), label=atom.GetSymbol())  \n",
    "      \n",
    "    # 添加化学键作为边  \n",
    "    for bond in mol.GetBonds():  \n",
    "        begin_idx = bond.GetBeginAtomIdx()  \n",
    "        end_idx = bond.GetEndAtomIdx()  \n",
    "        order = bond.GetBondTypeAsDouble()  # 可以获取键的阶数（单键、双键等）  \n",
    "        g.add_edge(begin_idx, end_idx, weight=order)  \n",
    "    return g  \n",
    "  \n",
    "# 转换  \n",
    "g = mol_to_graph(mol)  \n",
    "# 计算Wiener指数  \n",
    "wi = nx.wiener_index(g)  \n",
    "\n",
    "# 打印Wiener指数  \n",
    "print(f\"Wiener Index of the compound from SMILES: {wi}\")  \n",
    "  \n",
    "# 绘图（可选）  \n",
    "# RDKit有自己的绘图功能，如果想用NetworkX绘图并显示原子标签，需要手动添加标签  \n",
    "pos = nx.spring_layout(g)  # 使用NetworkX的布局函数  \n",
    "nx.draw(g, pos, with_labels=True, labels={node: g.nodes[node]['label'] for node in g.nodes()})  \n",
    "  \n",
    "# 显示图形（在某些环境中可能需要plt.show()）  \n",
    "import matplotlib.pyplot as plt  \n",
    "plt.show()"
   ],
   "metadata": {
    "collapsed": false,
    "ExecuteTime": {
     "end_time": "2024-03-11T07:38:55.422763400Z",
     "start_time": "2024-03-11T07:38:55.350536500Z"
    }
   },
   "id": "e331b3c9e1d88c9b"
  },
  {
   "cell_type": "raw",
   "source": [
    "分子权重"
   ],
   "metadata": {
    "collapsed": false
   },
   "id": "95299a379cf15f6e"
  },
  {
   "cell_type": "code",
   "execution_count": 32,
   "outputs": [
    {
     "name": "stdout",
     "output_type": "stream",
     "text": [
      "Molecular Weight: 253.28300000000002\n"
     ]
    }
   ],
   "source": [
    "molecular_weight = Descriptors.MolWt(mol)\n",
    "print(\"Molecular Weight:\", molecular_weight)"
   ],
   "metadata": {
    "collapsed": false,
    "ExecuteTime": {
     "end_time": "2024-03-11T07:38:55.426784200Z",
     "start_time": "2024-03-11T07:38:55.423764Z"
    }
   },
   "id": "a49b2c377c0af783"
  },
  {
   "cell_type": "raw",
   "source": [
    "LogP值"
   ],
   "metadata": {
    "collapsed": false
   },
   "id": "b56db1a54214d6df"
  },
  {
   "cell_type": "code",
   "execution_count": 33,
   "outputs": [
    {
     "name": "stdout",
     "output_type": "stream",
     "text": [
      "预测的LogP值为: 1.3660199999999998\n"
     ]
    }
   ],
   "source": [
    "from rdkit.Chem import Crippen  \n",
    "logp = Crippen.MolLogP(mol)  \n",
    "print(f\"预测的LogP值为: {logp}\")  "
   ],
   "metadata": {
    "collapsed": false,
    "ExecuteTime": {
     "end_time": "2024-03-11T07:38:55.435284100Z",
     "start_time": "2024-03-11T07:38:55.426784200Z"
    }
   },
   "id": "bb0635abb32f1bc7"
  },
  {
   "cell_type": "raw",
   "source": [
    "氢键供体数和受体数"
   ],
   "metadata": {
    "collapsed": false
   },
   "id": "f76f4362c8c26b8"
  },
  {
   "cell_type": "code",
   "execution_count": 34,
   "outputs": [
    {
     "name": "stdout",
     "output_type": "stream",
     "text": [
      "氢键供体数（H-Bond Donors）: 0\n",
      "氢键受体数（H-Bond Acceptors）: 4\n"
     ]
    }
   ],
   "source": [
    "if mol is not None:  \n",
    "    # 初始化氢键供体和氢键受体的计数器  \n",
    "    hbond_donors = 0  \n",
    "    hbond_acceptors = 0  \n",
    "  \n",
    "    # 遍历分子中的每个原子  \n",
    "    for atom in mol.GetAtoms():  \n",
    "        # 获取原子的符号  \n",
    "        atom_symbol = atom.GetSymbol()  \n",
    "  \n",
    "        # 判断是否为氢键供体（如N, O, F等）  \n",
    "        if atom_symbol in ['N', 'O', 'F']:  \n",
    "            # 检查原子是否有孤对电子  \n",
    "            if atom.GetNumExplicitHs() > 0:  \n",
    "                hbond_donors += 1  \n",
    "  \n",
    "        # 判断是否为氢键受体（如O, N, C=O, C=N等）  \n",
    "        if atom_symbol == 'O':  \n",
    "            # 对于氧原子，通常认为都是氢键受体  \n",
    "            hbond_acceptors += 1  \n",
    "        elif atom_symbol == 'N':  \n",
    "            # 对于氮原子，检查是否连接到电负性较大的原子（如O）  \n",
    "            for neighbor in atom.GetNeighbors():  \n",
    "                if neighbor.GetSymbol() == 'O':  \n",
    "                    hbond_acceptors += 1  \n",
    "                    break  \n",
    "        elif atom_symbol == 'C':  \n",
    "            # 对于碳原子，检查是否形成双键或三键  \n",
    "            degree = atom.GetDegree()  \n",
    "            if degree == 2:  \n",
    "                # 检查两个邻居是否都是电负性较大的原子（如O, N, S等）  \n",
    "                neighbors = atom.GetNeighbors()  \n",
    "                if (neighbors[0].GetSymbol() in ['O', 'N', 'S'] and  \n",
    "                    neighbors[1].GetSymbol() in ['O', 'N', 'S']):  \n",
    "                    hbond_acceptors += 1  \n",
    "  \n",
    "    # 打印氢键供体和氢键受体的数量  \n",
    "    print(f\"氢键供体数（H-Bond Donors）: {hbond_donors}\")  \n",
    "    print(f\"氢键受体数（H-Bond Acceptors）: {hbond_acceptors}\")  \n",
    "else:  \n",
    "    print(\"无效的SMILES字符串\")"
   ],
   "metadata": {
    "collapsed": false,
    "ExecuteTime": {
     "end_time": "2024-03-11T07:38:55.442480600Z",
     "start_time": "2024-03-11T07:38:55.435787500Z"
    }
   },
   "id": "a3330e01a3c4bf5e"
  },
  {
   "cell_type": "raw",
   "source": [
    "计算极性表面积"
   ],
   "metadata": {
    "collapsed": false
   },
   "id": "3d5bbe5122224f8f"
  },
  {
   "cell_type": "raw",
   "source": [
    "from pypsa import PyPSA  \n",
    "\n",
    "# 创建PyPSA对象  \n",
    "pypsa = PyPSA()  \n",
    "  \n",
    "# 计算PSA  \n",
    "psa = pypsa.calculate(smiles_string)  \n",
    "print(\"Polar Surface Area:\", psa)"
   ],
   "metadata": {
    "collapsed": false
   },
   "id": "88036478bd93a40e"
  },
  {
   "cell_type": "raw",
   "source": [
    "芳香环数"
   ],
   "metadata": {
    "collapsed": false
   },
   "id": "8580a95fbbe52ee1"
  },
  {
   "cell_type": "raw",
   "source": [
    "from rdkit.Chem import rdchem  \n",
    "\n",
    "# 确保分子对象不是None，即SMILES字符串是有效的  \n",
    "if mol is not None:  \n",
    "    # 初始化芳香环计数器  \n",
    "    num_aromatic_rings = 0  \n",
    "      \n",
    "    # 遍历分子中的所有原子  \n",
    "    for atom in mol.GetAtoms():  \n",
    "        # 检查原子是否是芳香性的  \n",
    "        if atom.GetIsAromatic():  \n",
    "            # 找到原子所在的环  \n",
    "            rings = mol.GetRingInfo().AtomRings(atom.GetIdx())  \n",
    "            # 对于每个环，检查它是否包含其他芳香性原子  \n",
    "            for ring in rings:  \n",
    "                aromatic_ring = True  \n",
    "                for idx in ring:  \n",
    "                    if not mol.GetAtomWithIdx(idx).GetIsAromatic():  \n",
    "                        aromatic_ring = False  \n",
    "                        break  \n",
    "                if aromatic_ring:  \n",
    "                    num_aromatic_rings += 1  \n",
    "                    break  # 假设每个原子只属于一个芳香环  \n",
    "      \n",
    "    # 打印结果  \n",
    "    print(f\"芳香环数 (Number of Aromatic Rings): {num_aromatic_rings}\")  \n",
    "else:  \n",
    "    print(\"无效的SMILES字符串\")"
   ],
   "metadata": {
    "collapsed": false
   },
   "id": "5dfdc5f61218f28a"
  },
  {
   "cell_type": "raw",
   "source": [
    "拓扑极性表面积"
   ],
   "metadata": {
    "collapsed": false
   },
   "id": "35f45d7252e63211"
  },
  {
   "cell_type": "code",
   "execution_count": 35,
   "outputs": [
    {
     "name": "stdout",
     "output_type": "stream",
     "text": [
      "拓扑极性表面积 (Topological Polar Surface Area): 98.22\n"
     ]
    }
   ],
   "source": [
    "topological_polar_surface_area = Descriptors.TPSA(mol)  # 注意：TPSA和Topological PSA通常是同一个值  \n",
    "print(f\"拓扑极性表面积 (Topological Polar Surface Area): {topological_polar_surface_area}\")  "
   ],
   "metadata": {
    "collapsed": false,
    "ExecuteTime": {
     "end_time": "2024-03-11T07:38:55.518147300Z",
     "start_time": "2024-03-11T07:38:55.441479900Z"
    }
   },
   "id": "956267da7ef8d149"
  },
  {
   "cell_type": "raw",
   "source": [
    "形式电荷"
   ],
   "metadata": {
    "collapsed": false
   },
   "id": "2f9db34ae75d5481"
  },
  {
   "cell_type": "code",
   "execution_count": 36,
   "outputs": [
    {
     "name": "stdout",
     "output_type": "stream",
     "text": [
      "形式电荷 (Formal Charges): [0, 0, 0, 0, 0, 0, 0, 0, 0, 0, 0, 0, 0, 0, 0, 0, 0]\n"
     ]
    }
   ],
   "source": [
    "if mol is not None:  \n",
    "    formal_charges = [atom.GetFormalCharge() for atom in mol.GetAtoms()]  \n",
    "    print(f\"形式电荷 (Formal Charges): {formal_charges}\")  \n",
    "else:  \n",
    "    print(\"无效的SMILES字符串\")"
   ],
   "metadata": {
    "collapsed": false,
    "ExecuteTime": {
     "end_time": "2024-03-11T07:38:55.518147300Z",
     "start_time": "2024-03-11T07:38:55.449171100Z"
    }
   },
   "id": "b0336145a02da28e"
  },
  {
   "cell_type": "code",
   "execution_count": 36,
   "outputs": [],
   "source": [
    "\n"
   ],
   "metadata": {
    "collapsed": false,
    "ExecuteTime": {
     "end_time": "2024-03-11T07:38:55.518147300Z",
     "start_time": "2024-03-11T07:38:55.455247600Z"
    }
   },
   "id": "3beaf9a625d4b6c"
  }
 ],
 "metadata": {
  "kernelspec": {
   "display_name": "Python 3",
   "language": "python",
   "name": "python3"
  },
  "language_info": {
   "codemirror_mode": {
    "name": "ipython",
    "version": 2
   },
   "file_extension": ".py",
   "mimetype": "text/x-python",
   "name": "python",
   "nbconvert_exporter": "python",
   "pygments_lexer": "ipython2",
   "version": "2.7.6"
  }
 },
 "nbformat": 4,
 "nbformat_minor": 5
}
