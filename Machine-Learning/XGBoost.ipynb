{
 "cells": [
  {
   "cell_type": "code",
   "execution_count": 2900,
   "outputs": [],
   "source": [
    "%matplotlib inline\n",
    "import xgboost as xgb  \n",
    "import matplotlib.pyplot as plt  \n",
    "import seaborn as sns\n",
    "plt.rcParams[\"figure.figsize\"] = (11, 11)  #set default figure size\n",
    "import numpy as np\n",
    "import pandas as pd\n",
    "from sklearn.model_selection import train_test_split\n",
    "from sklearn.preprocessing import StandardScaler, MinMaxScaler\n",
    "from sklearn.metrics import mean_absolute_error,mean_squared_error,mean_absolute_percentage_error,r2_score\n",
    "import matplotlib.pylab as plt\n",
    "from sklearn.model_selection import GridSearchCV, cross_val_score"
   ],
   "metadata": {
    "collapsed": false,
    "ExecuteTime": {
     "end_time": "2024-08-17T06:25:49.736381700Z",
     "start_time": "2024-08-17T06:25:49.681019200Z"
    }
   },
   "id": "677c0af668e777d0"
  },
  {
   "cell_type": "code",
   "execution_count": 2901,
   "outputs": [
    {
     "name": "stdout",
     "output_type": "stream",
     "text": [
      "original datasize: (222, 17)\n",
      "adjusted datasize: (222, 17)\n",
      "data:\n",
      "   Time  Deep  Length   HRT     COD    TN  NH4-N    C/N    c(A)  CSC  XLogP3  \\\n",
      "0    90  12.5    45.0  72.0  299.46  26.8  24.07  11.17  100.00   11    -0.1   \n",
      "1    90  45.0    12.5  72.0  299.46  26.8  24.07  11.17  100.00   11    -0.1   \n",
      "2    84  10.0    30.0  72.0   66.60   3.6   2.35  18.50    0.18   11     0.2   \n",
      "3    84  10.0    90.0  72.0   66.60   3.6   2.35  18.50    0.18   11     0.2   \n",
      "4    84  50.0    30.0  72.0   66.60   3.6   2.35  18.50    0.18   11     0.2   \n",
      "\n",
      "    WI    RA(P)   RA(F)    RA(B)   RA(A)  RR(TN)  \n",
      "0  885  48.0057  1.8966   9.9499  2.3363  0.6451  \n",
      "1  885  62.3032  1.6632   6.7403  0.9921  0.6451  \n",
      "2  943  50.8357  0.9988  10.7969  7.0869  0.8028  \n",
      "3  943  46.2696  1.4269  11.2249  2.6160  0.8028  \n",
      "4  943  38.7070  0.6659   6.9918  1.5220  0.8028  \n",
      "目标变量是  RR(TN)\n",
      "特征变量是  ['Time', 'Deep', 'Length', 'HRT', 'COD', 'TN', 'NH4-N', 'C/N', 'c(A)', 'CSC', 'XLogP3', 'WI', 'RA(P)', 'RA(F)', 'RA(B)', 'RA(A)']\n",
      "样本大小 is  222 ; 特征变量的数量 is  16\n",
      "训练集数据大小 is  155 ; 测试集数据大小 is  50 ; 验证集数据大小 is  17\n"
     ]
    }
   ],
   "source": [
    "df = pd.read_csv('MP_data_0323_TN.csv', index_col=None, engine='c')\n",
    "print('original datasize:', df.shape)\n",
    "df.dropna(inplace=True)\n",
    "print('adjusted datasize:', df.shape)\n",
    "print('data:')\n",
    "print(df.head())\n",
    "\n",
    "xx= df.iloc[:,0:-1]  # 特征 \n",
    "yy=df.iloc[:,-1]   # 目标变量\n",
    "\n",
    "zscore = StandardScaler()   #用于数据标准化处理的缩放器\n",
    "scaler =MinMaxScaler()   #用于数据最小最大缩放处理的缩放器\n",
    "xx_scaled = zscore.fit_transform(xx)  \n",
    "yy_scaled = scaler.fit_transform(np.reshape(yy.values,(len(yy),1))) \n",
    "\n",
    "\n",
    "def split(xx, yy):  #定义一个函数用来划分训练集，测试集，验证集\n",
    "\n",
    "    x_train, x_test_val, y_train, y_test_val = train_test_split(xx_scaled, yy_scaled, shuffle=True, test_size=0.3, random_state=1)\n",
    "    #x_训练集，x_测试验证集，y_训练集，y_测试验证集                    划分前将数据集进行随机打乱，并按照6：4划分，且划分方式统一\n",
    "    x_test, x_val, y_test, y_val = train_test_split(x_test_val, y_test_val, shuffle=True, test_size=0.25,\n",
    "                                                    random_state=1)\n",
    "    #x_测试集，x_验证集，y_测试集，y_验证集                           划分前将数据集进行随机打乱，并按照3：1划分，且划分方式统一\n",
    "\n",
    "    y2 = yy.ravel()  #将yy数组转化为一维数组并存在y2中\n",
    "    ind_train = [np.argwhere(y2 == y_train[i])[0].item() for i in range(len(y_train)) if y_train[i] in y2]\n",
    "    #这是一个循环，遍历y_train中的每一个元素，判断y_train中的当前标签y_train[i]是否存在于y2中\n",
    "    #找到y2中所有等于y_train[i]的元素的索引，返回一个二维数组，然后用[0].item()取得第一行赋值给ind_train生成列表\n",
    "    ind_test = [np.argwhere(y2 == y_test[i])[0].item() for i in range(len(y_test)) if y_test[i] in y2]\n",
    "    ind_val = [np.argwhere(y2 == y_val[i])[0].item() for i in range(len(y_val)) if y_val[i] in y2]\n",
    "\n",
    "    y_train = y_train.ravel()  #将y_train数组转化为一维数组\n",
    "    y_test = y_test.ravel()  #将y_text数组转化为一维数组\n",
    "    y_val = y_val.ravel()  #将y_val数组转化为一维数组\n",
    "\n",
    "    return x_train, x_test, x_val, y_train, y_test, y_val, xx, yy, np.asarray(ind_train), np.asarray(\n",
    "        ind_train), np.asarray(ind_val)\n",
    "    #返回训练集，测试集，验证集的特征数据，和标签（目标变量）数据，原特数据，原目标变量数据，以及转化为数组的ind_train，ind_train，ind_val\n",
    "\n",
    "\n",
    "\n",
    "x_train, x_test, x_val, y_train, y_test, y_val, x_scaled, y_scaled, ind_train, ind_test, ind_val = split(xx_scaled, yy_scaled)\n",
    "\n",
    "print('目标变量是 ', yy.name)\n",
    "print('特征变量是 ', xx.columns.tolist())\n",
    "print('样本大小 is ', xx.shape[0], '; 特征变量的数量 is ', xx.shape[1])\n",
    "print('训练集数据大小 is ', x_train.shape[0], '; 测试集数据大小 is ', x_test.shape[0], '; 验证集数据大小 is ',\n",
    "      x_val.shape[0])"
   ],
   "metadata": {
    "collapsed": false,
    "ExecuteTime": {
     "end_time": "2024-08-17T06:25:49.776418100Z",
     "start_time": "2024-08-17T06:25:49.687262900Z"
    }
   },
   "id": "baced0f0f80c7bc6"
  },
  {
   "cell_type": "markdown",
   "source": [
    "# 定义参数网格，添加gamma, reg_alpha, reg_lambda  \n",
    "param_grid = {  \n",
    "    'n_estimators': [500, 1000, 1500],  \n",
    "    'learning_rate': [0.05, 0.1, 0.15],  \n",
    "    'subsample': [0.6, 0.7, 0.8],  \n",
    "    'colsample_bytree': [0.6, 0.7, 0.8],  \n",
    "    'max_depth': [3, 4, 5],  \n",
    "    'gamma': [0, 0.25, 1.0],  # 添加gamma参数  \n",
    "    'reg_alpha': [0, 0.1, 1.0],  # 添加L1正则化项  \n",
    "    'reg_lambda': [1.0, 1.5, 2.0]  # 添加L2正则化项  \n",
    "}  \n",
    "  \n",
    "# 初始化XGBoost回归模型，不需要在这里设置gamma, reg_alpha, reg_lambda  \n",
    "xgb_reg = xgb.XGBRegressor(eval_metric='rmse', objective='reg:squarederror')  \n",
    "  \n",
    "# 初始化GridSearchCV对象，设置cv为交叉验证的次数，scoring为评价指标（注意这里是neg_mean_squared_error，因为GridSearchCV期望得分越低越好，所以RMSE前面加了个负号）  \n",
    "grid_search = GridSearchCV(estimator=xgb_reg, param_grid=param_grid, cv=5, scoring='neg_mean_squared_error', verbose=2)  \n",
    "  \n",
    "# 执行网格搜索  \n",
    "grid_search.fit(x_train, y_train)  \n",
    "  \n",
    "# 获取最佳参数组合  \n",
    "best_params = grid_search.best_params_  \n",
    "print(\"Best parameters found: \", best_params)  \n",
    "  \n",
    "# 获取最优模型的RMSE得分  \n",
    "best_score = np.sqrt(-grid_search.best_score_)  # 转换为正值的RMSE  \n",
    "print(\"Best RMSE score: \", best_score)  \n",
    "  "
   ],
   "metadata": {
    "collapsed": false
   },
   "id": "f244bf52ddec0409"
  },
  {
   "cell_type": "code",
   "execution_count": 2902,
   "outputs": [],
   "source": [
    "xgb = xgb.XGBRegressor(  \n",
    "    n_estimators=31,  \n",
    "    learning_rate=0.1,  \n",
    "    subsample=0.5,  \n",
    "    colsample_bytree=0.5,   \n",
    "    max_depth=8,  \n",
    "    gamma=0,  # 添加gamma参数    \n",
    "    reg_alpha=1e-5,  # L1正则化项  \n",
    "    reg_lambda=0,  # L2正则化项  \n",
    "    eval_metric='rmse'  # 将eval_metric移动到这里  \n",
    ")  \n",
    "# 训练模型并指定评估数据集  \n",
    "eval_set = [(x_train, y_train), (x_test, y_test)]  \n",
    "xgb.fit(x_train, y_train,  eval_set=eval_set, verbose=False)  \n",
    "\n",
    "y_pred_train = xgb.predict(x_train)  \n",
    "y_pred_test = xgb.predict(x_test)  \n",
    "y_pred_val = xgb.predict(x_val) "
   ],
   "metadata": {
    "collapsed": false,
    "ExecuteTime": {
     "end_time": "2024-08-17T06:25:49.776418100Z",
     "start_time": "2024-08-17T06:25:49.705582100Z"
    }
   },
   "id": "f007b1773cfe8c56"
  },
  {
   "cell_type": "code",
   "execution_count": 2903,
   "outputs": [
    {
     "name": "stdout",
     "output_type": "stream",
     "text": [
      "Mean cross-validation score: 0.85\n",
      "XGB training\tR2:0.9872\t\tMSE:0.001004\t\tMAE:0.023416\n",
      "XGB test  \t\tR2:0.8440\t\tMSE:0.013452\t\tMAE:0.077308\n",
      "XGB valid \t\tR2:0.8377\t\tMSE:0.005633\t\tMAE:0.056097\n"
     ]
    }
   ],
   "source": [
    "# 交叉验证得分  \n",
    "scores = cross_val_score(xgb, x_train, y_train, cv=5)  \n",
    "print(\"Mean cross-validation score: %.2f\" % scores.mean())  \n",
    "\n",
    "print('XGB training\\tR2:{:.4f}\\t\\tMSE:{:.6f}\\t\\tMAE:{:.6f}'.format(xgb.score(x_train,y_train), mean_squared_error(y_train, y_pred_train),\n",
    "                                                        mean_absolute_error(y_train, y_pred_train)))\n",
    "print('XGB test  \\t\\tR2:{:.4f}\\t\\tMSE:{:.6f}\\t\\tMAE:{:.6f}'.format(xgb.score(x_test,y_test), mean_squared_error(y_test, y_pred_test),\n",
    "                                                        mean_absolute_error(y_test, y_pred_test)))\n",
    "\n",
    "print('XGB valid \\t\\tR2:{:.4f}\\t\\tMSE:{:.6f}\\t\\tMAE:{:.6f}'.format(xgb.score(x_val,y_val), mean_squared_error(y_val, y_pred_val),\n",
    "                                                        mean_absolute_error(y_val, y_pred_val)))"
   ],
   "metadata": {
    "collapsed": false,
    "ExecuteTime": {
     "end_time": "2024-08-17T06:25:49.841364500Z",
     "start_time": "2024-08-17T06:25:49.734380Z"
    }
   },
   "id": "11ec4cecdcaf725d"
  },
  {
   "cell_type": "code",
   "execution_count": 2904,
   "outputs": [
    {
     "data": {
      "text/plain": "<Figure size 600x600 with 1 Axes>",
      "image/png": "[encoded data removed]"
     },
     "metadata": {},
     "output_type": "display_data"
    }
   ],
   "source": [
    "y_pred_train = xgb.predict(x_train)    \n",
    "y_pred_test = xgb.predict(x_test)    \n",
    "y_pred_val = xgb.predict(x_val) \n",
    "\n",
    "\n",
    "def scatter_plots(model_name, y_pred_train, y_pred_test,y_pred_val, y_train, y_test, y_val):  \n",
    "    \n",
    "    plt.figure(figsize=(6, 6))     # 设置图的大小 \n",
    "    \n",
    "    # 在同一个图中绘制所有点的散点图  \n",
    "    plt.scatter(y_train, y_pred_train, color='blue', label='Train', alpha=0.6)  \n",
    "                                 #散点的颜色设置为蓝色，标签设置为‘Train’，散点的透明度设置为0.6\n",
    "    plt.scatter(y_test, y_pred_test, color='green', label='Test', alpha=0.6)  \n",
    "    plt.scatter(y_val, y_pred_val, color='red', label='Validation', alpha=0.6)  \n",
    "      \n",
    "    # 绘制完美拟合线  \n",
    "    limits = [  \n",
    "        min(y_train.min(), y_test.min(), y_val.min()),  # x min  \n",
    "        max(y_train.max(), y_test.max(), y_val.max()),  # x max  \n",
    "        min(y_pred_train.min(), y_pred_test.min(), y_pred_val.min()),  # y min  \n",
    "        max(y_pred_train.max(), y_pred_test.max(), y_pred_val.max()),  # y max  \n",
    "    ]  \n",
    "    plt.plot(limits[:2], limits[2:], 'k--', lw=2)  \n",
    "      \n",
    "    # 设置图的标题和坐标轴标签  \n",
    "    plt.title('XGB-NH4-N')     #图片标题\n",
    "    plt.xlabel('Actual Values')     #x轴标题\n",
    "    plt.ylabel('Predicted Values')      #y轴标题\n",
    "    # 禁用网格  \n",
    "    plt.grid(False)\n",
    "    # 显示图例  \n",
    "    plt.legend()  \n",
    "      \n",
    "    # 显示图形  \n",
    "    plt.show()  \n",
    "    \n",
    "# 调用scatter_plots函数生成图像\n",
    "scatter_plots('XGB', y_pred_train, y_pred_test, y_pred_val, y_train, y_test, y_val)"
   ],
   "metadata": {
    "collapsed": false,
    "ExecuteTime": {
     "end_time": "2024-08-17T06:25:50.104337100Z",
     "start_time": "2024-08-17T06:25:49.928452300Z"
    }
   },
   "id": "3094d58ea3bb2471"
  },
  {
   "cell_type": "markdown",
   "source": [
    "sns.set_style(\"white\") \n",
    "palette = sns.color_palette(\"husl\", n_colors=2) \n",
    " \n",
    "# 设置画布大小和分辨率\n",
    "plt.figure(figsize=(10, 5), dpi=300)\n",
    " \n",
    "# 绘制测试集数据的真实值和模型预测值的折线图\n",
    "x_ax = range(len(y_test))\n",
    "plt.plot(x_ax, y_test, label=\"True Values\", color=palette[0], linewidth=1)\n",
    "plt.plot(x_ax, predictions, label=\"Predicted Values\", color=palette[1], linewidth=1)\n",
    " \n",
    "# 添加标题和标签\n",
    "plt.title(\"PR(TN) - True vs Predicted Values\")\n",
    "plt.xlabel(\"Sample Number\")\n",
    "plt.ylabel(\"PR(TN)\")\n",
    " \n",
    "# 显示图例\n",
    "plt.legend()\n",
    "#plt.savefig('True vs Predicted Values.png')\n",
    "# 显示图形\n",
    "plt.show()"
   ],
   "metadata": {
    "collapsed": false
   },
   "id": "22150552280fe5ca"
  },
  {
   "cell_type": "code",
   "execution_count": 2905,
   "outputs": [],
   "source": [
    "import pickle\n",
    "# save xgboost model\n",
    "model_name = 'xgb.pkl' # 模型名称.plk\n",
    "path =''\n",
    "with open(path+'xgb.pkl','wb') as f:\n",
    "    pickle.dump(xgb, f)"
   ],
   "metadata": {
    "collapsed": false,
    "ExecuteTime": {
     "end_time": "2024-08-17T06:25:50.116212Z",
     "start_time": "2024-08-17T06:25:50.104337100Z"
    }
   },
   "id": "c8cdc20db4783ec2"
  },
  {
   "cell_type": "code",
   "execution_count": 2906,
   "outputs": [],
   "source": [
    "#y_train"
   ],
   "metadata": {
    "collapsed": false,
    "ExecuteTime": {
     "end_time": "2024-08-17T06:25:50.116212Z",
     "start_time": "2024-08-17T06:25:50.108097900Z"
    }
   },
   "id": "db39b88cbb468bdb"
  },
  {
   "cell_type": "code",
   "execution_count": 2907,
   "outputs": [],
   "source": [
    "#y_pred_train"
   ],
   "metadata": {
    "collapsed": false,
    "ExecuteTime": {
     "end_time": "2024-08-17T06:25:50.128601500Z",
     "start_time": "2024-08-17T06:25:50.114210400Z"
    }
   },
   "id": "ce2beeadf0f39bd3"
  },
  {
   "cell_type": "code",
   "execution_count": 2908,
   "outputs": [],
   "source": [
    "#y_test"
   ],
   "metadata": {
    "collapsed": false,
    "ExecuteTime": {
     "end_time": "2024-08-17T06:25:50.186437500Z",
     "start_time": "2024-08-17T06:25:50.120738800Z"
    }
   },
   "id": "9164ce4e22d230a5"
  },
  {
   "cell_type": "code",
   "execution_count": 2909,
   "outputs": [],
   "source": [
    "#y_pred_test"
   ],
   "metadata": {
    "collapsed": false,
    "ExecuteTime": {
     "end_time": "2024-08-17T06:25:50.187438500Z",
     "start_time": "2024-08-17T06:25:50.127600400Z"
    }
   },
   "id": "de91ac604dde8a64"
  },
  {
   "cell_type": "code",
   "execution_count": 2910,
   "outputs": [],
   "source": [
    "#y_val"
   ],
   "metadata": {
    "collapsed": false,
    "ExecuteTime": {
     "end_time": "2024-08-17T06:25:50.187438500Z",
     "start_time": "2024-08-17T06:25:50.134532500Z"
    }
   },
   "id": "9ca92783ee29e3a5"
  },
  {
   "cell_type": "code",
   "execution_count": 2911,
   "outputs": [],
   "source": [
    "#y_pred_val"
   ],
   "metadata": {
    "collapsed": false,
    "ExecuteTime": {
     "end_time": "2024-08-17T06:25:50.188439400Z",
     "start_time": "2024-08-17T06:25:50.140855900Z"
    }
   },
   "id": "10c5d731674487ec"
  },
  {
   "cell_type": "markdown",
   "source": [
    "#   PDP"
   ],
   "metadata": {
    "collapsed": false
   },
   "id": "74adcec57cd43ebe"
  },
  {
   "cell_type": "code",
   "execution_count": 2912,
   "outputs": [
    {
     "data": {
      "text/plain": "<Figure size 600x600 with 2 Axes>",
      "image/png": "[encoded data removed]"
     },
     "metadata": {},
     "output_type": "display_data"
    }
   ],
   "source": [
    "from matplotlib import pyplot as plt\n",
    "from sklearn.inspection import PartialDependenceDisplay\n",
    "\n",
    "x_train, x_test_val, y_train, y_test_val = train_test_split(xx, yy, shuffle=True, test_size=0.3, random_state=1)\n",
    "#x_训练集，x_测试验证集，y_训练集，y_测试验证集                    划分前将数据集进行随机打乱，并按照7：3划分，且划分方式统一\n",
    "x_test, x_val, y_test, y_val = train_test_split(x_test_val, y_test_val, shuffle=True, test_size=0.25, random_state=1)\n",
    "#x_测试集，x_验证集，y_测试集，y_验证集                           划分前将数据集进行随机打乱，并按照3：1划分，且划分方式统一\n",
    "\n",
    "feature_names = ['Time', 'Deep', 'Length', 'HRT', 'COD', 'TN', 'NH4-N', 'C/N', 'c(A)', 'CSC', 'XLogP3', 'WI', 'RA(P)',\n",
    "                 'RA(F)', 'RA(B)', 'RA(A)']\n",
    "\n",
    "feat_name = ('RA(P)')\n",
    "PartialDependenceDisplay.from_estimator(xgb, x_train, [feat_name])\n",
    "plt.gcf().set_size_inches(6, 6)  # w 是宽度，h 是高度  \n",
    "plt.show()"
   ],
   "metadata": {
    "collapsed": false,
    "ExecuteTime": {
     "end_time": "2024-08-17T06:25:50.497019400Z",
     "start_time": "2024-08-17T06:25:50.148403400Z"
    }
   },
   "id": "4859f629d95bc378"
  },
  {
   "cell_type": "markdown",
   "source": [
    "#   ICE"
   ],
   "metadata": {
    "collapsed": false
   },
   "id": "647fd17d9e7ff4e8"
  },
  {
   "cell_type": "code",
   "execution_count": 2913,
   "outputs": [
    {
     "ename": "ModuleNotFoundError",
     "evalue": "No module named 'pycebox'",
     "output_type": "error",
     "traceback": [
      "\u001B[1;31m---------------------------------------------------------------------------\u001B[0m",
      "\u001B[1;31mModuleNotFoundError\u001B[0m                       Traceback (most recent call last)",
      "Cell \u001B[1;32mIn[2913], line 1\u001B[0m\n\u001B[1;32m----> 1\u001B[0m \u001B[38;5;28;01mfrom\u001B[39;00m \u001B[38;5;21;01mpycebox\u001B[39;00m\u001B[38;5;21;01m.\u001B[39;00m\u001B[38;5;21;01mice\u001B[39;00m \u001B[38;5;28;01mimport\u001B[39;00m ice, ice_plot\n\u001B[0;32m      3\u001B[0m \u001B[38;5;66;03m# 假设您已经训练了随机森林模型，并且准备好特征和目标变量\u001B[39;00m\n\u001B[0;32m      5\u001B[0m feature_names \u001B[38;5;241m=\u001B[39m [\u001B[38;5;124m'\u001B[39m\u001B[38;5;124mTime\u001B[39m\u001B[38;5;124m'\u001B[39m, \u001B[38;5;124m'\u001B[39m\u001B[38;5;124mDeep\u001B[39m\u001B[38;5;124m'\u001B[39m, \u001B[38;5;124m'\u001B[39m\u001B[38;5;124mLength\u001B[39m\u001B[38;5;124m'\u001B[39m, \u001B[38;5;124m'\u001B[39m\u001B[38;5;124mHRT\u001B[39m\u001B[38;5;124m'\u001B[39m, \u001B[38;5;124m'\u001B[39m\u001B[38;5;124mCOD\u001B[39m\u001B[38;5;124m'\u001B[39m, \u001B[38;5;124m'\u001B[39m\u001B[38;5;124mTN\u001B[39m\u001B[38;5;124m'\u001B[39m, \u001B[38;5;124m'\u001B[39m\u001B[38;5;124mNH4-N\u001B[39m\u001B[38;5;124m'\u001B[39m, \u001B[38;5;124m'\u001B[39m\u001B[38;5;124mC/N\u001B[39m\u001B[38;5;124m'\u001B[39m, \u001B[38;5;124m'\u001B[39m\u001B[38;5;124mc(A)\u001B[39m\u001B[38;5;124m'\u001B[39m, \u001B[38;5;124m'\u001B[39m\u001B[38;5;124mCSC\u001B[39m\u001B[38;5;124m'\u001B[39m, \u001B[38;5;124m'\u001B[39m\u001B[38;5;124mXLogP3\u001B[39m\u001B[38;5;124m'\u001B[39m, \u001B[38;5;124m'\u001B[39m\u001B[38;5;124mWI\u001B[39m\u001B[38;5;124m'\u001B[39m, \u001B[38;5;124m'\u001B[39m\u001B[38;5;124mRA(P)\u001B[39m\u001B[38;5;124m'\u001B[39m,\n\u001B[0;32m      6\u001B[0m                  \u001B[38;5;124m'\u001B[39m\u001B[38;5;124mRA(F)\u001B[39m\u001B[38;5;124m'\u001B[39m, \u001B[38;5;124m'\u001B[39m\u001B[38;5;124mRA(B)\u001B[39m\u001B[38;5;124m'\u001B[39m, \u001B[38;5;124m'\u001B[39m\u001B[38;5;124mRA(A)\u001B[39m\u001B[38;5;124m'\u001B[39m]\n",
      "\u001B[1;31mModuleNotFoundError\u001B[0m: No module named 'pycebox'"
     ]
    }
   ],
   "source": [
    "from pycebox.ice import ice, ice_plot\n",
    "\n",
    "# 假设您已经训练了随机森林模型，并且准备好特征和目标变量\n",
    "\n",
    "feature_names = ['Time', 'Deep', 'Length', 'HRT', 'COD', 'TN', 'NH4-N', 'C/N', 'c(A)', 'CSC', 'XLogP3', 'WI', 'RA(P)',\n",
    "                 'RA(F)', 'RA(B)', 'RA(A)']\n",
    "# 选择一个特征来生成ICE图\n",
    "feature_of_interest = ('RA(P)')\n",
    "\n",
    "# 使用pycebox生成ICE数据\n",
    "ice_df = ice(xx, feature_of_interest, xgb.predict, num_grid_points=20)\n",
    "\n",
    "# 使用pycebox绘制ICE图\n",
    "ice_plot(ice_df, c='dimgray', linewidth=0.5, plot_pdp=True, plot_points=True)\n"
   ],
   "metadata": {
    "collapsed": false,
    "ExecuteTime": {
     "end_time": "2024-08-17T06:25:50.510379700Z",
     "start_time": "2024-08-17T06:25:50.499021300Z"
    }
   },
   "id": "397a428f1c85f106"
  }
 ],
 "metadata": {
  "kernelspec": {
   "display_name": "Python 3",
   "language": "python",
   "name": "python3"
  },
  "language_info": {
   "codemirror_mode": {
    "name": "ipython",
    "version": 2
   },
   "file_extension": ".py",
   "mimetype": "text/x-python",
   "name": "python",
   "nbconvert_exporter": "python",
   "pygments_lexer": "ipython2",
   "version": "2.7.6"
  }
 },
 "nbformat": 4,
 "nbformat_minor": 5
}
